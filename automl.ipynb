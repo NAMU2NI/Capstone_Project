{
 "cells": [
  {
   "cell_type": "markdown",
   "metadata": {},
   "source": [
    "# Automated ML\n",
    "\n",
    "TODO: Import Dependencies. In the cell below, import all the dependencies that you will need to complete the project."
   ]
  },
  {
   "cell_type": "code",
   "execution_count": 1,
   "metadata": {
    "gather": {
     "logged": 1598423888013
    },
    "jupyter": {
     "outputs_hidden": false,
     "source_hidden": false
    },
    "nteract": {
     "transient": {
      "deleting": false
     }
    }
   },
   "outputs": [],
   "source": [
    "import numpy as np\n",
    "import pandas as pd\n",
    "import os\n",
    "import glob \n",
    "import os\n",
    "\n",
    "from datetime import datetime"
   ]
  },
  {
   "cell_type": "code",
   "execution_count": 2,
   "metadata": {},
   "outputs": [
    {
     "name": "stdout",
     "output_type": "stream",
     "text": [
      "Workspace name: ops_analytics-workspace\n",
      "Azure region: westeurope\n",
      "Subscription id: 73f88e6b-3a35-4612-b550-555157e7059f\n",
      "Resource group: ops_analytics-rg-gb-dev\n"
     ]
    }
   ],
   "source": [
    "from azureml.core import Workspace, Experiment\n",
    "\n",
    "ws = Workspace.from_config()\n",
    "\n",
    "# choose a name for experiment\n",
    "experiment_name = 'auto-ml-bankrupt3'\n",
    "\n",
    "experiment=Experiment(ws, experiment_name)\n",
    "\n",
    "print('Workspace name: ' + ws.name, \n",
    "      'Azure region: ' + ws.location, \n",
    "      'Subscription id: ' + ws.subscription_id, \n",
    "      'Resource group: ' + ws.resource_group, sep = '\\n')\n",
    "\n",
    "run = experiment.start_logging()"
   ]
  },
  {
   "cell_type": "markdown",
   "metadata": {},
   "source": [
    "## Dataset\n",
    "\n",
    "### Overview\n",
    "TODO: In this markdown cell, give an overview of the dataset you are using. Also mention the task you will be performing.\n",
    "\n",
    "In the current \n",
    "\n",
    "\n",
    "TODO: Get data. In the cell below, write code to access the data you will be using in this project. Remember that the dataset needs to be external."
   ]
  },
  {
   "cell_type": "code",
   "execution_count": null,
   "metadata": {},
   "outputs": [],
   "source": []
  },
  {
   "cell_type": "code",
   "execution_count": 3,
   "metadata": {},
   "outputs": [
    {
     "name": "stderr",
     "output_type": "stream",
     "text": [
      "/anaconda/envs/azureml_py36/lib/python3.6/site-packages/azureml/data/dataset_factory.py:374: UserWarning: Ambiguous datetime formats inferred for columns ['Bankruptcy month'] are resolved as \"month-day\". Desired format can be specified by `set_column_types`.\n",
      "  .format(column_types_builder.ambiguous_date_columns))\n"
     ]
    },
    {
     "data": {
      "text/html": [
       "<div>\n",
       "<style scoped>\n",
       "    .dataframe tbody tr th:only-of-type {\n",
       "        vertical-align: middle;\n",
       "    }\n",
       "\n",
       "    .dataframe tbody tr th {\n",
       "        vertical-align: top;\n",
       "    }\n",
       "\n",
       "    .dataframe thead th {\n",
       "        text-align: right;\n",
       "    }\n",
       "</style>\n",
       "<table border=\"1\" class=\"dataframe\">\n",
       "  <thead>\n",
       "    <tr style=\"text-align: right;\">\n",
       "      <th></th>\n",
       "      <th>Payer</th>\n",
       "      <th>FLAG_BAD_DEBT</th>\n",
       "      <th># POCs</th>\n",
       "      <th>Rent</th>\n",
       "      <th>Average Receivables</th>\n",
       "      <th>Average Overdue</th>\n",
       "      <th>Payment Term Days</th>\n",
       "      <th>Credit Limit</th>\n",
       "      <th>Std Dev AR</th>\n",
       "      <th>Max Credit Utilization</th>\n",
       "      <th>Avg Credit Utilization</th>\n",
       "      <th>fb_rating</th>\n",
       "    </tr>\n",
       "  </thead>\n",
       "  <tbody>\n",
       "    <tr>\n",
       "      <th>count</th>\n",
       "      <td>6.078000e+03</td>\n",
       "      <td>6078.000000</td>\n",
       "      <td>6078.000000</td>\n",
       "      <td>6078.000000</td>\n",
       "      <td>6.078000e+03</td>\n",
       "      <td>6.078000e+03</td>\n",
       "      <td>6078.000000</td>\n",
       "      <td>6078.000000</td>\n",
       "      <td>6078.000000</td>\n",
       "      <td>6.078000e+03</td>\n",
       "      <td>6.078000e+03</td>\n",
       "      <td>6078.000000</td>\n",
       "    </tr>\n",
       "    <tr>\n",
       "      <th>mean</th>\n",
       "      <td>3.028378e+07</td>\n",
       "      <td>0.007075</td>\n",
       "      <td>1.304870</td>\n",
       "      <td>858.841474</td>\n",
       "      <td>6.673015e+04</td>\n",
       "      <td>-3.510930e+03</td>\n",
       "      <td>17.821323</td>\n",
       "      <td>6955.941413</td>\n",
       "      <td>0.178076</td>\n",
       "      <td>1.492075e+04</td>\n",
       "      <td>1.216466e+04</td>\n",
       "      <td>1.301346</td>\n",
       "    </tr>\n",
       "    <tr>\n",
       "      <th>std</th>\n",
       "      <td>1.222117e+05</td>\n",
       "      <td>0.083820</td>\n",
       "      <td>6.907748</td>\n",
       "      <td>3701.399187</td>\n",
       "      <td>4.144858e+06</td>\n",
       "      <td>2.156629e+05</td>\n",
       "      <td>6.569184</td>\n",
       "      <td>17368.214761</td>\n",
       "      <td>2.371362</td>\n",
       "      <td>5.493294e+05</td>\n",
       "      <td>5.470089e+05</td>\n",
       "      <td>2.023613</td>\n",
       "    </tr>\n",
       "    <tr>\n",
       "      <th>min</th>\n",
       "      <td>3.012384e+07</td>\n",
       "      <td>0.000000</td>\n",
       "      <td>1.000000</td>\n",
       "      <td>0.000000</td>\n",
       "      <td>0.000000e+00</td>\n",
       "      <td>-1.666037e+07</td>\n",
       "      <td>0.000000</td>\n",
       "      <td>0.000000</td>\n",
       "      <td>0.000000</td>\n",
       "      <td>-1.831733e+06</td>\n",
       "      <td>-1.902979e+06</td>\n",
       "      <td>0.000000</td>\n",
       "    </tr>\n",
       "    <tr>\n",
       "      <th>25%</th>\n",
       "      <td>3.016368e+07</td>\n",
       "      <td>0.000000</td>\n",
       "      <td>1.000000</td>\n",
       "      <td>0.000000</td>\n",
       "      <td>0.000000e+00</td>\n",
       "      <td>-6.555792e+01</td>\n",
       "      <td>14.000000</td>\n",
       "      <td>2500.000000</td>\n",
       "      <td>0.000000</td>\n",
       "      <td>0.000000e+00</td>\n",
       "      <td>0.000000e+00</td>\n",
       "      <td>0.000000</td>\n",
       "    </tr>\n",
       "    <tr>\n",
       "      <th>50%</th>\n",
       "      <td>3.023606e+07</td>\n",
       "      <td>0.000000</td>\n",
       "      <td>1.000000</td>\n",
       "      <td>0.000000</td>\n",
       "      <td>8.261600e+02</td>\n",
       "      <td>0.000000e+00</td>\n",
       "      <td>14.000000</td>\n",
       "      <td>2500.000000</td>\n",
       "      <td>0.000000</td>\n",
       "      <td>0.000000e+00</td>\n",
       "      <td>0.000000e+00</td>\n",
       "      <td>0.000000</td>\n",
       "    </tr>\n",
       "    <tr>\n",
       "      <th>75%</th>\n",
       "      <td>3.041267e+07</td>\n",
       "      <td>0.000000</td>\n",
       "      <td>1.000000</td>\n",
       "      <td>0.000000</td>\n",
       "      <td>4.285353e+03</td>\n",
       "      <td>0.000000e+00</td>\n",
       "      <td>28.000000</td>\n",
       "      <td>6300.000000</td>\n",
       "      <td>0.095900</td>\n",
       "      <td>3.246082e-01</td>\n",
       "      <td>1.903275e-01</td>\n",
       "      <td>4.100000</td>\n",
       "    </tr>\n",
       "    <tr>\n",
       "      <th>max</th>\n",
       "      <td>3.047306e+07</td>\n",
       "      <td>1.000000</td>\n",
       "      <td>502.000000</td>\n",
       "      <td>85181.940000</td>\n",
       "      <td>3.217080e+08</td>\n",
       "      <td>5.826703e+05</td>\n",
       "      <td>63.000000</td>\n",
       "      <td>655600.000000</td>\n",
       "      <td>145.109226</td>\n",
       "      <td>4.195733e+07</td>\n",
       "      <td>4.195733e+07</td>\n",
       "      <td>5.000000</td>\n",
       "    </tr>\n",
       "  </tbody>\n",
       "</table>\n",
       "</div>"
      ],
      "text/plain": [
       "              Payer  FLAG_BAD_DEBT       # POCs          Rent  \\\n",
       "count  6.078000e+03    6078.000000  6078.000000   6078.000000   \n",
       "mean   3.028378e+07       0.007075     1.304870    858.841474   \n",
       "std    1.222117e+05       0.083820     6.907748   3701.399187   \n",
       "min    3.012384e+07       0.000000     1.000000      0.000000   \n",
       "25%    3.016368e+07       0.000000     1.000000      0.000000   \n",
       "50%    3.023606e+07       0.000000     1.000000      0.000000   \n",
       "75%    3.041267e+07       0.000000     1.000000      0.000000   \n",
       "max    3.047306e+07       1.000000   502.000000  85181.940000   \n",
       "\n",
       "       Average Receivables  Average Overdue  Payment Term Days   Credit Limit  \\\n",
       "count         6.078000e+03     6.078000e+03        6078.000000    6078.000000   \n",
       "mean          6.673015e+04    -3.510930e+03          17.821323    6955.941413   \n",
       "std           4.144858e+06     2.156629e+05           6.569184   17368.214761   \n",
       "min           0.000000e+00    -1.666037e+07           0.000000       0.000000   \n",
       "25%           0.000000e+00    -6.555792e+01          14.000000    2500.000000   \n",
       "50%           8.261600e+02     0.000000e+00          14.000000    2500.000000   \n",
       "75%           4.285353e+03     0.000000e+00          28.000000    6300.000000   \n",
       "max           3.217080e+08     5.826703e+05          63.000000  655600.000000   \n",
       "\n",
       "        Std Dev AR  Max Credit Utilization  Avg Credit Utilization  \\\n",
       "count  6078.000000            6.078000e+03            6.078000e+03   \n",
       "mean      0.178076            1.492075e+04            1.216466e+04   \n",
       "std       2.371362            5.493294e+05            5.470089e+05   \n",
       "min       0.000000           -1.831733e+06           -1.902979e+06   \n",
       "25%       0.000000            0.000000e+00            0.000000e+00   \n",
       "50%       0.000000            0.000000e+00            0.000000e+00   \n",
       "75%       0.095900            3.246082e-01            1.903275e-01   \n",
       "max     145.109226            4.195733e+07            4.195733e+07   \n",
       "\n",
       "         fb_rating  \n",
       "count  6078.000000  \n",
       "mean      1.301346  \n",
       "std       2.023613  \n",
       "min       0.000000  \n",
       "25%       0.000000  \n",
       "50%       0.000000  \n",
       "75%       4.100000  \n",
       "max       5.000000  "
      ]
     },
     "execution_count": 3,
     "metadata": {},
     "output_type": "execute_result"
    }
   ],
   "source": [
    "from azureml.data.dataset_factory import TabularDatasetFactory\n",
    "from azureml.core import Dataset\n",
    "# NOTE: update the key to match the dataset name\n",
    "found = False\n",
    "key = \"Bankruptcu-dataset\"\n",
    "description_text = \"Predicting Bankruptcy capstone project\"\n",
    "\n",
    "if key in ws.datasets.keys(): \n",
    "        found = True        \n",
    "        dataset = ws.datasets[key] \n",
    "\n",
    "if not found:\n",
    "        # Create Hyperdrive Dataset and register it into Workspace\n",
    "        url = 'https://raw.githubusercontent.com/NAMU2NI/Capstone_Project/main/POC_level_features.csv'\n",
    "        dataset = Dataset.Tabular.from_delimited_files(url)        \n",
    "        #Register Dataset in Workspace\n",
    "        dataset = dataset.register(workspace=ws,\n",
    "                                   name=key,\n",
    "                                   description=description_text)\n",
    "\n",
    "\n",
    "df = dataset.to_pandas_dataframe()\n",
    "df.describe()"
   ]
  },
  {
   "cell_type": "code",
   "execution_count": 5,
   "metadata": {},
   "outputs": [
    {
     "data": {
      "text/html": [
       "<div>\n",
       "<style scoped>\n",
       "    .dataframe tbody tr th:only-of-type {\n",
       "        vertical-align: middle;\n",
       "    }\n",
       "\n",
       "    .dataframe tbody tr th {\n",
       "        vertical-align: top;\n",
       "    }\n",
       "\n",
       "    .dataframe thead th {\n",
       "        text-align: right;\n",
       "    }\n",
       "</style>\n",
       "<table border=\"1\" class=\"dataframe\">\n",
       "  <thead>\n",
       "    <tr style=\"text-align: right;\">\n",
       "      <th></th>\n",
       "      <th>Payer</th>\n",
       "      <th>Bankruptcy month</th>\n",
       "      <th>FLAG_BAD_DEBT</th>\n",
       "      <th># POCs</th>\n",
       "      <th>Rent</th>\n",
       "      <th>Average Receivables</th>\n",
       "      <th>Average Overdue</th>\n",
       "      <th>Payment Term Days</th>\n",
       "      <th>Payment Behavior Status</th>\n",
       "      <th>Credit Limit</th>\n",
       "      <th>Std Dev AR</th>\n",
       "      <th>Max Credit Utilization</th>\n",
       "      <th>Avg Credit Utilization</th>\n",
       "      <th>fb_rating</th>\n",
       "    </tr>\n",
       "  </thead>\n",
       "  <tbody>\n",
       "    <tr>\n",
       "      <th>0</th>\n",
       "      <td>30123845</td>\n",
       "      <td>2019-01-01</td>\n",
       "      <td>0</td>\n",
       "      <td>1</td>\n",
       "      <td>0.0</td>\n",
       "      <td>36267.91</td>\n",
       "      <td>-35159.53</td>\n",
       "      <td>30</td>\n",
       "      <td>EXCELLENT</td>\n",
       "      <td>10000.0</td>\n",
       "      <td>0.248854</td>\n",
       "      <td>-3.520062</td>\n",
       "      <td>-3.735576</td>\n",
       "      <td>0.0</td>\n",
       "    </tr>\n",
       "    <tr>\n",
       "      <th>1</th>\n",
       "      <td>30155541</td>\n",
       "      <td>2019-01-06</td>\n",
       "      <td>0</td>\n",
       "      <td>1</td>\n",
       "      <td>0.0</td>\n",
       "      <td>0.00</td>\n",
       "      <td>0.00</td>\n",
       "      <td>28</td>\n",
       "      <td>EXCELLENT</td>\n",
       "      <td>2500.0</td>\n",
       "      <td>0.000000</td>\n",
       "      <td>0.000000</td>\n",
       "      <td>0.000000</td>\n",
       "      <td>0.0</td>\n",
       "    </tr>\n",
       "  </tbody>\n",
       "</table>\n",
       "</div>"
      ],
      "text/plain": [
       "      Payer Bankruptcy month  FLAG_BAD_DEBT  # POCs  Rent  \\\n",
       "0  30123845       2019-01-01              0       1   0.0   \n",
       "1  30155541       2019-01-06              0       1   0.0   \n",
       "\n",
       "   Average Receivables  Average Overdue  Payment Term Days  \\\n",
       "0             36267.91        -35159.53                 30   \n",
       "1                 0.00             0.00                 28   \n",
       "\n",
       "  Payment Behavior Status  Credit Limit  Std Dev AR  Max Credit Utilization  \\\n",
       "0               EXCELLENT       10000.0    0.248854               -3.520062   \n",
       "1               EXCELLENT        2500.0    0.000000                0.000000   \n",
       "\n",
       "   Avg Credit Utilization  fb_rating  \n",
       "0               -3.735576        0.0  \n",
       "1                0.000000        0.0  "
      ]
     },
     "execution_count": 5,
     "metadata": {},
     "output_type": "execute_result"
    }
   ],
   "source": [
    "df.head(2)"
   ]
  },
  {
   "cell_type": "code",
   "execution_count": 6,
   "metadata": {},
   "outputs": [],
   "source": [
    "from Train_Model import clean_data\n",
    "from sklearn.model_selection import train_test_split\n",
    "import pandas as pd\n",
    "\n",
    "x, y = clean_data(dataset)\n",
    "y_dataframe = pd.DataFrame(y)\n",
    "\n",
    "all_data = pd.concat([x,y_dataframe], axis = 1)"
   ]
  },
  {
   "cell_type": "code",
   "execution_count": 7,
   "metadata": {},
   "outputs": [],
   "source": [
    "Train, Test = train_test_split(\n",
    "       all_data , test_size=0.33, random_state=0)"
   ]
  },
  {
   "cell_type": "code",
   "execution_count": 8,
   "metadata": {},
   "outputs": [],
   "source": [
    "Train = Train.drop(['Payer', 'Bankruptcy month'], axis=1)\n",
    "Test = Test.drop(['Payer', 'Bankruptcy month'], axis=1)"
   ]
  },
  {
   "cell_type": "code",
   "execution_count": 9,
   "metadata": {},
   "outputs": [],
   "source": [
    "Train.rename(columns = {'FLAG_BAD_DEBT':'Y'}, inplace = True)\n",
    "Test.rename(columns = {'FLAG_BAD_DEBT':'Y'}, inplace = True)"
   ]
  },
  {
   "cell_type": "code",
   "execution_count": 10,
   "metadata": {},
   "outputs": [
    {
     "name": "stdout",
     "output_type": "stream",
     "text": [
      "Shape Train: (4072, 15)\n",
      "Shape Test: (2006, 15)\n"
     ]
    }
   ],
   "source": [
    "print('Shape Train: '+str(Train.shape))\n",
    "print('Shape Test: '+str(Test.shape))"
   ]
  },
  {
   "cell_type": "code",
   "execution_count": 11,
   "metadata": {},
   "outputs": [
    {
     "name": "stdout",
     "output_type": "stream",
     "text": [
      "# Bad Debts in training data 28\n",
      "# Bad Debts in test data 15\n"
     ]
    }
   ],
   "source": [
    "print (\"# Bad Debts in training data\",Train['Y'].sum())\n",
    "print (\"# Bad Debts in test data\",Test['Y'].sum())"
   ]
  },
  {
   "cell_type": "code",
   "execution_count": 12,
   "metadata": {},
   "outputs": [
    {
     "data": {
      "text/html": [
       "<div>\n",
       "<style scoped>\n",
       "    .dataframe tbody tr th:only-of-type {\n",
       "        vertical-align: middle;\n",
       "    }\n",
       "\n",
       "    .dataframe tbody tr th {\n",
       "        vertical-align: top;\n",
       "    }\n",
       "\n",
       "    .dataframe thead th {\n",
       "        text-align: right;\n",
       "    }\n",
       "</style>\n",
       "<table border=\"1\" class=\"dataframe\">\n",
       "  <thead>\n",
       "    <tr style=\"text-align: right;\">\n",
       "      <th></th>\n",
       "      <th># POCs</th>\n",
       "      <th>Rent</th>\n",
       "      <th>Average Receivables</th>\n",
       "      <th>Average Overdue</th>\n",
       "      <th>Payment Term Days</th>\n",
       "      <th>Credit Limit</th>\n",
       "      <th>Std Dev AR</th>\n",
       "      <th>Max Credit Utilization</th>\n",
       "      <th>Avg Credit Utilization</th>\n",
       "      <th>fb_rating</th>\n",
       "      <th>Payment Behavior Status_AVERAGE</th>\n",
       "      <th>Payment Behavior Status_EXCELLENT</th>\n",
       "      <th>Payment Behavior Status_GOOD</th>\n",
       "      <th>Payment Behavior Status_STRUCTURAL OFFENDER</th>\n",
       "      <th>Y</th>\n",
       "    </tr>\n",
       "  </thead>\n",
       "  <tbody>\n",
       "    <tr>\n",
       "      <th>6019</th>\n",
       "      <td>1</td>\n",
       "      <td>0.00</td>\n",
       "      <td>3454.070000</td>\n",
       "      <td>2783.691667</td>\n",
       "      <td>14</td>\n",
       "      <td>0.01</td>\n",
       "      <td>0.000000</td>\n",
       "      <td>247445.000000</td>\n",
       "      <td>207445.000000</td>\n",
       "      <td>0.0</td>\n",
       "      <td>0</td>\n",
       "      <td>0</td>\n",
       "      <td>0</td>\n",
       "      <td>1</td>\n",
       "      <td>0</td>\n",
       "    </tr>\n",
       "    <tr>\n",
       "      <th>1115</th>\n",
       "      <td>1</td>\n",
       "      <td>0.00</td>\n",
       "      <td>0.000000</td>\n",
       "      <td>0.000000</td>\n",
       "      <td>28</td>\n",
       "      <td>2500.00</td>\n",
       "      <td>0.000000</td>\n",
       "      <td>0.000000</td>\n",
       "      <td>0.000000</td>\n",
       "      <td>0.0</td>\n",
       "      <td>0</td>\n",
       "      <td>1</td>\n",
       "      <td>0</td>\n",
       "      <td>0</td>\n",
       "      <td>0</td>\n",
       "    </tr>\n",
       "    <tr>\n",
       "      <th>4899</th>\n",
       "      <td>1</td>\n",
       "      <td>0.00</td>\n",
       "      <td>0.000000</td>\n",
       "      <td>0.000000</td>\n",
       "      <td>14</td>\n",
       "      <td>3000.00</td>\n",
       "      <td>0.000000</td>\n",
       "      <td>0.000000</td>\n",
       "      <td>0.000000</td>\n",
       "      <td>3.8</td>\n",
       "      <td>0</td>\n",
       "      <td>1</td>\n",
       "      <td>0</td>\n",
       "      <td>0</td>\n",
       "      <td>0</td>\n",
       "    </tr>\n",
       "    <tr>\n",
       "      <th>5999</th>\n",
       "      <td>1</td>\n",
       "      <td>17509.36</td>\n",
       "      <td>20871.773330</td>\n",
       "      <td>-1266.953333</td>\n",
       "      <td>14</td>\n",
       "      <td>11100.00</td>\n",
       "      <td>0.259872</td>\n",
       "      <td>0.771139</td>\n",
       "      <td>0.435101</td>\n",
       "      <td>0.0</td>\n",
       "      <td>1</td>\n",
       "      <td>0</td>\n",
       "      <td>0</td>\n",
       "      <td>0</td>\n",
       "      <td>0</td>\n",
       "    </tr>\n",
       "    <tr>\n",
       "      <th>3804</th>\n",
       "      <td>1</td>\n",
       "      <td>0.00</td>\n",
       "      <td>6239.128333</td>\n",
       "      <td>0.000000</td>\n",
       "      <td>14</td>\n",
       "      <td>5000.00</td>\n",
       "      <td>0.095197</td>\n",
       "      <td>0.581832</td>\n",
       "      <td>0.478905</td>\n",
       "      <td>4.4</td>\n",
       "      <td>0</td>\n",
       "      <td>1</td>\n",
       "      <td>0</td>\n",
       "      <td>0</td>\n",
       "      <td>0</td>\n",
       "    </tr>\n",
       "    <tr>\n",
       "      <th>...</th>\n",
       "      <td>...</td>\n",
       "      <td>...</td>\n",
       "      <td>...</td>\n",
       "      <td>...</td>\n",
       "      <td>...</td>\n",
       "      <td>...</td>\n",
       "      <td>...</td>\n",
       "      <td>...</td>\n",
       "      <td>...</td>\n",
       "      <td>...</td>\n",
       "      <td>...</td>\n",
       "      <td>...</td>\n",
       "      <td>...</td>\n",
       "      <td>...</td>\n",
       "      <td>...</td>\n",
       "    </tr>\n",
       "    <tr>\n",
       "      <th>4931</th>\n",
       "      <td>1</td>\n",
       "      <td>0.00</td>\n",
       "      <td>3779.543333</td>\n",
       "      <td>-3785.533333</td>\n",
       "      <td>14</td>\n",
       "      <td>2500.00</td>\n",
       "      <td>0.000000</td>\n",
       "      <td>0.000000</td>\n",
       "      <td>0.000000</td>\n",
       "      <td>4.5</td>\n",
       "      <td>0</td>\n",
       "      <td>1</td>\n",
       "      <td>0</td>\n",
       "      <td>0</td>\n",
       "      <td>0</td>\n",
       "    </tr>\n",
       "    <tr>\n",
       "      <th>3264</th>\n",
       "      <td>1</td>\n",
       "      <td>0.00</td>\n",
       "      <td>8.470000</td>\n",
       "      <td>0.000000</td>\n",
       "      <td>14</td>\n",
       "      <td>2500.00</td>\n",
       "      <td>0.000000</td>\n",
       "      <td>0.000000</td>\n",
       "      <td>0.000000</td>\n",
       "      <td>0.0</td>\n",
       "      <td>0</td>\n",
       "      <td>1</td>\n",
       "      <td>0</td>\n",
       "      <td>0</td>\n",
       "      <td>0</td>\n",
       "    </tr>\n",
       "    <tr>\n",
       "      <th>1653</th>\n",
       "      <td>1</td>\n",
       "      <td>1610.38</td>\n",
       "      <td>3451.195000</td>\n",
       "      <td>-673.473333</td>\n",
       "      <td>14</td>\n",
       "      <td>2500.00</td>\n",
       "      <td>0.165090</td>\n",
       "      <td>0.537976</td>\n",
       "      <td>0.290388</td>\n",
       "      <td>5.0</td>\n",
       "      <td>0</td>\n",
       "      <td>1</td>\n",
       "      <td>0</td>\n",
       "      <td>0</td>\n",
       "      <td>0</td>\n",
       "    </tr>\n",
       "    <tr>\n",
       "      <th>2607</th>\n",
       "      <td>1</td>\n",
       "      <td>0.00</td>\n",
       "      <td>0.000000</td>\n",
       "      <td>0.000000</td>\n",
       "      <td>14</td>\n",
       "      <td>2500.00</td>\n",
       "      <td>0.000000</td>\n",
       "      <td>0.000000</td>\n",
       "      <td>0.000000</td>\n",
       "      <td>0.0</td>\n",
       "      <td>0</td>\n",
       "      <td>1</td>\n",
       "      <td>0</td>\n",
       "      <td>0</td>\n",
       "      <td>0</td>\n",
       "    </tr>\n",
       "    <tr>\n",
       "      <th>2732</th>\n",
       "      <td>1</td>\n",
       "      <td>0.00</td>\n",
       "      <td>5908.526667</td>\n",
       "      <td>0.000000</td>\n",
       "      <td>14</td>\n",
       "      <td>6100.00</td>\n",
       "      <td>0.023172</td>\n",
       "      <td>0.326700</td>\n",
       "      <td>0.289984</td>\n",
       "      <td>4.7</td>\n",
       "      <td>0</td>\n",
       "      <td>1</td>\n",
       "      <td>0</td>\n",
       "      <td>0</td>\n",
       "      <td>0</td>\n",
       "    </tr>\n",
       "  </tbody>\n",
       "</table>\n",
       "<p>4072 rows × 15 columns</p>\n",
       "</div>"
      ],
      "text/plain": [
       "      # POCs      Rent  Average Receivables  Average Overdue  \\\n",
       "6019       1      0.00          3454.070000      2783.691667   \n",
       "1115       1      0.00             0.000000         0.000000   \n",
       "4899       1      0.00             0.000000         0.000000   \n",
       "5999       1  17509.36         20871.773330     -1266.953333   \n",
       "3804       1      0.00          6239.128333         0.000000   \n",
       "...      ...       ...                  ...              ...   \n",
       "4931       1      0.00          3779.543333     -3785.533333   \n",
       "3264       1      0.00             8.470000         0.000000   \n",
       "1653       1   1610.38          3451.195000      -673.473333   \n",
       "2607       1      0.00             0.000000         0.000000   \n",
       "2732       1      0.00          5908.526667         0.000000   \n",
       "\n",
       "      Payment Term Days  Credit Limit  Std Dev AR  Max Credit Utilization  \\\n",
       "6019                 14          0.01    0.000000           247445.000000   \n",
       "1115                 28       2500.00    0.000000                0.000000   \n",
       "4899                 14       3000.00    0.000000                0.000000   \n",
       "5999                 14      11100.00    0.259872                0.771139   \n",
       "3804                 14       5000.00    0.095197                0.581832   \n",
       "...                 ...           ...         ...                     ...   \n",
       "4931                 14       2500.00    0.000000                0.000000   \n",
       "3264                 14       2500.00    0.000000                0.000000   \n",
       "1653                 14       2500.00    0.165090                0.537976   \n",
       "2607                 14       2500.00    0.000000                0.000000   \n",
       "2732                 14       6100.00    0.023172                0.326700   \n",
       "\n",
       "      Avg Credit Utilization  fb_rating  Payment Behavior Status_AVERAGE  \\\n",
       "6019           207445.000000        0.0                                0   \n",
       "1115                0.000000        0.0                                0   \n",
       "4899                0.000000        3.8                                0   \n",
       "5999                0.435101        0.0                                1   \n",
       "3804                0.478905        4.4                                0   \n",
       "...                      ...        ...                              ...   \n",
       "4931                0.000000        4.5                                0   \n",
       "3264                0.000000        0.0                                0   \n",
       "1653                0.290388        5.0                                0   \n",
       "2607                0.000000        0.0                                0   \n",
       "2732                0.289984        4.7                                0   \n",
       "\n",
       "      Payment Behavior Status_EXCELLENT  Payment Behavior Status_GOOD  \\\n",
       "6019                                  0                             0   \n",
       "1115                                  1                             0   \n",
       "4899                                  1                             0   \n",
       "5999                                  0                             0   \n",
       "3804                                  1                             0   \n",
       "...                                 ...                           ...   \n",
       "4931                                  1                             0   \n",
       "3264                                  1                             0   \n",
       "1653                                  1                             0   \n",
       "2607                                  1                             0   \n",
       "2732                                  1                             0   \n",
       "\n",
       "      Payment Behavior Status_STRUCTURAL OFFENDER  Y  \n",
       "6019                                            1  0  \n",
       "1115                                            0  0  \n",
       "4899                                            0  0  \n",
       "5999                                            0  0  \n",
       "3804                                            0  0  \n",
       "...                                           ... ..  \n",
       "4931                                            0  0  \n",
       "3264                                            0  0  \n",
       "1653                                            0  0  \n",
       "2607                                            0  0  \n",
       "2732                                            0  0  \n",
       "\n",
       "[4072 rows x 15 columns]"
      ]
     },
     "execution_count": 12,
     "metadata": {},
     "output_type": "execute_result"
    }
   ],
   "source": [
    "Train"
   ]
  },
  {
   "cell_type": "code",
   "execution_count": 13,
   "metadata": {},
   "outputs": [
    {
     "name": "stdout",
     "output_type": "stream",
     "text": [
      "Uploading an estimated of 4 files\n",
      "Uploading ./Data/.amlignore\n",
      "Uploaded ./Data/.amlignore, 1 files out of an estimated total of 4\n",
      "Uploading ./Data/.amlignore.amltmp\n",
      "Uploaded ./Data/.amlignore.amltmp, 2 files out of an estimated total of 4\n",
      "Uploading ./Data/Train.csv\n",
      "Uploaded ./Data/Train.csv, 3 files out of an estimated total of 4\n",
      "Uploading ./Data/train_data.csv\n",
      "Uploaded ./Data/train_data.csv, 4 files out of an estimated total of 4\n",
      "Uploaded 4 files\n"
     ]
    }
   ],
   "source": [
    "from azureml.core import Dataset\n",
    "from azureml.core import Workspace\n",
    "\n",
    "\n",
    "ws = Workspace.from_config()\n",
    "Train.to_csv(\"Data/Train.csv\", index = False)\n",
    "\n",
    "path = \"Data/Train.csv\"\n",
    "\n",
    "data_store = ws.get_default_datastore()\n",
    "\n",
    "try:\n",
    "    train_dataset = Dataset.get_by_name(ws, name=\"Train\")\n",
    "except: \n",
    "    data_store.upload(src_dir = \"./Data\", target_path = './Data', overwrite = True,  show_progress = True) \n",
    "        \n",
    "# Create TabularDataset & register in workspace\n",
    "poc_dataset = Dataset.Tabular.from_delimited_files([(data_store, path)])\n",
    "poc_dataset = poc_dataset.register(\n",
    "        ws, name=\"poc_dataset\", create_new_version=True,\n",
    "        description=\"Dataset for POC Bankrupt prediction\")       \n",
    "        \n",
    "#data_store.upload\n",
    "#train_data = Dataset.Tabular.from_delimited_files(path=data_store.path(\"project_3/train_data.csv\"))"
   ]
  },
  {
   "cell_type": "markdown",
   "metadata": {},
   "source": [
    "## Choose the Compute to Calculate "
   ]
  },
  {
   "cell_type": "code",
   "execution_count": 14,
   "metadata": {},
   "outputs": [
    {
     "name": "stdout",
     "output_type": "stream",
     "text": [
      "Found existing cluster, use it.\n",
      "Succeeded\n",
      "AmlCompute wait for completion finished\n",
      "\n",
      "Minimum number of nodes requested have been provisioned\n",
      "{'currentNodeCount': 0, 'targetNodeCount': 0, 'nodeStateCounts': {'preparingNodeCount': 0, 'runningNodeCount': 0, 'idleNodeCount': 0, 'unusableNodeCount': 0, 'leavingNodeCount': 0, 'preemptedNodeCount': 0}, 'allocationState': 'Steady', 'allocationStateTransitionTime': '2021-12-04T08:02:45.300000+00:00', 'errors': None, 'creationTime': '2021-09-17T05:18:08.686648+00:00', 'modifiedTime': '2021-09-17T05:18:24.335748+00:00', 'provisioningState': 'Succeeded', 'provisioningStateTransitionTime': None, 'scaleSettings': {'minNodeCount': 0, 'maxNodeCount': 1, 'nodeIdleTimeBeforeScaleDown': 'PT1800S'}, 'vmPriority': 'Dedicated', 'vmSize': 'STANDARD_D2S_V3'}\n"
     ]
    }
   ],
   "source": [
    "from azureml.core.compute import ComputeTarget, AmlCompute\n",
    "from azureml.core.compute_target import ComputeTargetException \n",
    "\n",
    "# Choose a name for your CPU cluster\n",
    "amlcompute_cluster_name = \"Demo-Cluster\"\n",
    "\n",
    "# Verify that cluster does not exist already\n",
    "try:\n",
    "    aml_compute = ComputeTarget(workspace=ws, name=amlcompute_cluster_name)\n",
    "    print('Found existing cluster, use it.')\n",
    "except ComputeTargetException:\n",
    "    print(\"Creating a new compute cluster...\")\n",
    "    compute_config =  AmlCompute.provisioning_configuration(vm_size='STANDARD_D2S_V3', max_nodes=4, min_nodes=0, vm_priority='lowpriority') \n",
    "    aml_compute = ComputeTarget.create(ws, amlcompute_cluster_name, compute_config)\n",
    "\n",
    "# Can poll for a minimum number of nodes and for a specific timeout. \n",
    "# If no min node count is provided it uses the scale settings for the cluster.\n",
    "    \n",
    "#aml_compute.wait_for_completion(show_output=True)\n",
    "aml_compute.wait_for_completion(show_output=True, min_node_count = None, timeout_in_minutes = 60)\n",
    "#compute_target.wait_for_completion(show_output=True, min_node_count = None, timeout_in_minutes = 60)\n",
    "\n",
    "\n",
    "# use get_status() to get a detailed status for the current cluster. \n",
    "print(aml_compute.get_status().serialize())"
   ]
  },
  {
   "cell_type": "markdown",
   "metadata": {},
   "source": [
    "## AutoML Configuration\n",
    "\n",
    "TODO: Explain why you chose the automl settings and cofiguration you used below."
   ]
  },
  {
   "cell_type": "code",
   "execution_count": 15,
   "metadata": {
    "gather": {
     "logged": 1598429217746
    },
    "jupyter": {
     "outputs_hidden": false,
     "source_hidden": false
    },
    "nteract": {
     "transient": {
      "deleting": false
     }
    }
   },
   "outputs": [],
   "source": [
    "from azureml.train.automl import AutoMLConfig\n",
    "\n",
    "# TODO: Put your automl settings here\n",
    "\n",
    "automl_settings = {\n",
    "    \"experiment_timeout_minutes\": 40,\n",
    "    \"max_concurrent_iterations\": 5,\n",
    "    \"primary_metric\" : 'norm_macro_recall'\n",
    "}\n",
    "\n",
    "# TODO: Put your automl config here\n",
    "automl_config = AutoMLConfig(compute_target=aml_compute,\n",
    "                             task = \"classification\",\n",
    "                             training_data=poc_dataset,\n",
    "                             label_column_name=\"Y\",   \n",
    "                             enable_early_stopping= True,\n",
    "                             featurization= 'auto',\n",
    "                             debug_log = \"automl_errors.log\",\n",
    "                             **automl_settings\n",
    "                            )"
   ]
  },
  {
   "cell_type": "code",
   "execution_count": 16,
   "metadata": {},
   "outputs": [
    {
     "name": "stdout",
     "output_type": "stream",
     "text": [
      "Submitting remote run.\n",
      "No run_configuration provided, running on Demo-Cluster with default configuration\n",
      "Running on remote compute: Demo-Cluster\n"
     ]
    },
    {
     "data": {
      "text/html": [
       "<table style=\"width:100%\"><tr><th>Experiment</th><th>Id</th><th>Type</th><th>Status</th><th>Details Page</th><th>Docs Page</th></tr><tr><td>auto-ml-bankrupt2</td><td>AutoML_87c7adcd-0386-4519-a580-943d7e9cb165</td><td>automl</td><td>NotStarted</td><td><a href=\"https://ml.azure.com/runs/AutoML_87c7adcd-0386-4519-a580-943d7e9cb165?wsid=/subscriptions/73f88e6b-3a35-4612-b550-555157e7059f/resourcegroups/ops_analytics-rg-gb-dev/workspaces/ops_analytics-workspace&amp;tid=cef04b19-7776-4a94-b89b-375c77a8f936\" target=\"_blank\" rel=\"noopener\">Link to Azure Machine Learning studio</a></td><td><a href=\"https://docs.microsoft.com/en-us/python/api/overview/azure/ml/intro?view=azure-ml-py\" target=\"_blank\" rel=\"noopener\">Link to Documentation</a></td></tr></table>"
      ],
      "text/plain": [
       "<IPython.core.display.HTML object>"
      ]
     },
     "metadata": {},
     "output_type": "display_data"
    },
    {
     "name": "stdout",
     "output_type": "stream",
     "text": [
      "\n",
      "Current status: FeaturesGeneration. Generating features for the dataset.\n",
      "Current status: ModelSelection. Beginning model selection.\n",
      "\n",
      "****************************************************************************************************\n",
      "DATA GUARDRAILS: \n",
      "\n",
      "TYPE:         Cross validation\n",
      "STATUS:       DONE\n",
      "DESCRIPTION:  Each iteration of the trained model was validated through cross-validation.\n",
      "              \n",
      "DETAILS:      \n",
      "+---------------------------------+\n",
      "|Number of folds                  |\n",
      "+=================================+\n",
      "|3                                |\n",
      "+---------------------------------+\n",
      "\n",
      "****************************************************************************************************\n",
      "\n",
      "TYPE:         Class balancing detection\n",
      "STATUS:       ALERTED\n",
      "DESCRIPTION:  To decrease model bias, please cancel the current run and fix balancing problem.\n",
      "              Learn more about imbalanced data: https://aka.ms/AutomatedMLImbalancedData\n",
      "DETAILS:      Imbalanced data can lead to a falsely perceived positive effect of a model's accuracy because the input data has bias towards one class.\n",
      "+---------------------------------+---------------------------------+--------------------------------------+\n",
      "|Size of the smallest class       |Name/Label of the smallest class |Number of samples in the training data|\n",
      "+=================================+=================================+======================================+\n",
      "|28                               |1                                |4072                                  |\n",
      "+---------------------------------+---------------------------------+--------------------------------------+\n",
      "\n",
      "****************************************************************************************************\n",
      "\n",
      "TYPE:         Missing feature values imputation\n",
      "STATUS:       PASSED\n",
      "DESCRIPTION:  No feature missing values were detected in the training data.\n",
      "              Learn more about missing value imputation: https://aka.ms/AutomatedMLFeaturization\n",
      "\n",
      "****************************************************************************************************\n",
      "\n",
      "TYPE:         High cardinality feature detection\n",
      "STATUS:       PASSED\n",
      "DESCRIPTION:  Your inputs were analyzed, and no high cardinality features were detected.\n",
      "              Learn more about high cardinality feature handling: https://aka.ms/AutomatedMLFeaturization\n",
      "\n",
      "****************************************************************************************************\n",
      "\n",
      "****************************************************************************************************\n",
      "ITERATION: The iteration being evaluated.\n",
      "PIPELINE: A summary description of the pipeline being evaluated.\n",
      "DURATION: Time taken for the current iteration.\n",
      "METRIC: The result of computing score on the fitted pipeline.\n",
      "BEST: The best observed score thus far.\n",
      "****************************************************************************************************\n",
      "\n",
      " ITERATION   PIPELINE                                       DURATION      METRIC      BEST\n",
      "         1   MaxAbsScaler XGBoostClassifier                 0:01:09       0.4865    0.4865\n",
      "         2   StandardScalerWrapper ExtremeRandomTrees       0:03:09       0.0612    0.4865\n",
      "         3   MaxAbsScaler ExtremeRandomTrees                0:05:19       0.2912    0.4865\n",
      "         0   MaxAbsScaler LightGBM                          0:07:17       0.4305    0.4865\n",
      "         4   StandardScalerWrapper RandomForest             0:09:20       0.3101    0.4865\n",
      "         5   MaxAbsScaler ExtremeRandomTrees                0:10:10       0.0111    0.4865\n",
      "         6   SparseNormalizer ExtremeRandomTrees            0:10:06       0.6842    0.6842\n",
      "         7   SparseNormalizer XGBoostClassifier             0:10:19       0.5868    0.6842\n",
      "         8   MaxAbsScaler RandomForest                      0:10:00       0.5160    0.6842\n",
      "         9   MaxAbsScaler RandomForest                      0:09:42       0.1083    0.6842\n",
      "        10   MaxAbsScaler ExtremeRandomTrees                0:09:57       0.1357    0.6842\n",
      "        11   MaxAbsScaler SGD                               0:09:58       0.0178    0.6842\n",
      "        12   StandardScalerWrapper RandomForest             0:09:44       0.4906    0.6842\n",
      "        13   StandardScalerWrapper LogisticRegression       0:10:36       0.6758    0.6842\n",
      "        14   MaxAbsScaler RandomForest                      0:10:59       0.4816    0.6842\n",
      "        15   StandardScalerWrapper XGBoostClassifier        0:11:04       0.5801    0.6842\n",
      "        16   MaxAbsScaler SGD                               0:11:01       0.4937    0.6842\n",
      "        17   StandardScalerWrapper RandomForest             0:10:23       0.4680    0.6842\n",
      "        18   SparseNormalizer RandomForest                  0:09:28       0.6366    0.6842\n",
      "        19   MaxAbsScaler RandomForest                      0:09:05       0.3027    0.6842\n",
      "        20   StandardScalerWrapper ExtremeRandomTrees       0:09:14       0.0845    0.6842\n",
      "        21                                                  0:07:20          nan    0.6842\n",
      "ERROR: {\n",
      "    \"additional_properties\": {},\n",
      "    \"error\": {\n",
      "        \"additional_properties\": {\n",
      "            \"debugInfo\": null\n",
      "        },\n",
      "        \"code\": \"UserError\",\n",
      "        \"severity\": null,\n",
      "        \"message\": \"Experiment timeout reached, please consider increasing your experiment timeout.\",\n",
      "        \"message_format\": \"Experiment timeout reached, please consider increasing your experiment timeout.\",\n",
      "        \"message_parameters\": {},\n",
      "        \"reference_code\": null,\n",
      "        \"details_uri\": null,\n",
      "        \"target\": null,\n",
      "        \"details\": [],\n",
      "        \"inner_error\": {\n",
      "            \"additional_properties\": {},\n",
      "            \"code\": \"ResourceExhausted\",\n",
      "            \"inner_error\": {\n",
      "                \"additional_properties\": {},\n",
      "                \"code\": \"Timeout\",\n",
      "                \"inner_error\": {\n",
      "                    \"additional_properties\": {},\n",
      "                    \"code\": \"ExperimentTimeoutForIterations\",\n",
      "                    \"inner_error\": null\n",
      "                }\n",
      "            }\n",
      "        },\n",
      "        \"additional_info\": null\n",
      "    },\n",
      "    \"correlation\": null,\n",
      "    \"environment\": null,\n",
      "    \"location\": null,\n",
      "    \"time\": {},\n",
      "    \"component_name\": null\n",
      "}\n",
      "        22                                                  0:05:49          nan    0.6842\n",
      "ERROR: {\n",
      "    \"additional_properties\": {},\n",
      "    \"error\": {\n",
      "        \"additional_properties\": {\n",
      "            \"debugInfo\": null\n",
      "        },\n",
      "        \"code\": \"UserError\",\n",
      "        \"severity\": null,\n",
      "        \"message\": \"Experiment timeout reached, please consider increasing your experiment timeout.\",\n",
      "        \"message_format\": \"Experiment timeout reached, please consider increasing your experiment timeout.\",\n",
      "        \"message_parameters\": {},\n",
      "        \"reference_code\": null,\n",
      "        \"details_uri\": null,\n",
      "        \"target\": null,\n",
      "        \"details\": [],\n",
      "        \"inner_error\": {\n",
      "            \"additional_properties\": {},\n",
      "            \"code\": \"ResourceExhausted\",\n",
      "            \"inner_error\": {\n",
      "                \"additional_properties\": {},\n",
      "                \"code\": \"Timeout\",\n",
      "                \"inner_error\": {\n",
      "                    \"additional_properties\": {},\n",
      "                    \"code\": \"ExperimentTimeoutForIterations\",\n",
      "                    \"inner_error\": null\n",
      "                }\n",
      "            }\n",
      "        },\n",
      "        \"additional_info\": null\n",
      "    },\n",
      "    \"correlation\": null,\n",
      "    \"environment\": null,\n",
      "    \"location\": null,\n",
      "    \"time\": {},\n",
      "    \"component_name\": null\n",
      "}\n",
      "        23                                                  0:04:13          nan    0.6842\n",
      "ERROR: {\n",
      "    \"additional_properties\": {},\n",
      "    \"error\": {\n",
      "        \"additional_properties\": {\n",
      "            \"debugInfo\": null\n",
      "        },\n",
      "        \"code\": \"UserError\",\n",
      "        \"severity\": null,\n",
      "        \"message\": \"Experiment timeout reached, please consider increasing your experiment timeout.\",\n",
      "        \"message_format\": \"Experiment timeout reached, please consider increasing your experiment timeout.\",\n",
      "        \"message_parameters\": {},\n",
      "        \"reference_code\": null,\n",
      "        \"details_uri\": null,\n",
      "        \"target\": null,\n",
      "        \"details\": [],\n",
      "        \"inner_error\": {\n",
      "            \"additional_properties\": {},\n",
      "            \"code\": \"ResourceExhausted\",\n",
      "            \"inner_error\": {\n",
      "                \"additional_properties\": {},\n",
      "                \"code\": \"Timeout\",\n",
      "                \"inner_error\": {\n",
      "                    \"additional_properties\": {},\n",
      "                    \"code\": \"ExperimentTimeoutForIterations\",\n",
      "                    \"inner_error\": null\n",
      "                }\n",
      "            }\n",
      "        },\n",
      "        \"additional_info\": null\n",
      "    },\n",
      "    \"correlation\": null,\n",
      "    \"environment\": null,\n",
      "    \"location\": null,\n",
      "    \"time\": {},\n",
      "    \"component_name\": null\n",
      "}\n"
     ]
    },
    {
     "name": "stdout",
     "output_type": "stream",
     "text": [
      "        24                                                  0:02:07          nan    0.6842\n",
      "ERROR: {\n",
      "    \"additional_properties\": {},\n",
      "    \"error\": {\n",
      "        \"additional_properties\": {\n",
      "            \"debugInfo\": null\n",
      "        },\n",
      "        \"code\": \"UserError\",\n",
      "        \"severity\": null,\n",
      "        \"message\": \"Experiment timeout reached, please consider increasing your experiment timeout.\",\n",
      "        \"message_format\": \"Experiment timeout reached, please consider increasing your experiment timeout.\",\n",
      "        \"message_parameters\": {},\n",
      "        \"reference_code\": null,\n",
      "        \"details_uri\": null,\n",
      "        \"target\": null,\n",
      "        \"details\": [],\n",
      "        \"inner_error\": {\n",
      "            \"additional_properties\": {},\n",
      "            \"code\": \"ResourceExhausted\",\n",
      "            \"inner_error\": {\n",
      "                \"additional_properties\": {},\n",
      "                \"code\": \"Timeout\",\n",
      "                \"inner_error\": {\n",
      "                    \"additional_properties\": {},\n",
      "                    \"code\": \"ExperimentTimeoutForIterations\",\n",
      "                    \"inner_error\": null\n",
      "                }\n",
      "            }\n",
      "        },\n",
      "        \"additional_info\": null\n",
      "    },\n",
      "    \"correlation\": null,\n",
      "    \"environment\": null,\n",
      "    \"location\": null,\n",
      "    \"time\": {},\n",
      "    \"component_name\": null\n",
      "}\n",
      "        25    VotingEnsemble                                0:02:06       0.7035    0.7035\n",
      "        26    StackEnsemble                                 0:04:05       0.1505    0.7035\n"
     ]
    }
   ],
   "source": [
    "automl_run = experiment.submit(automl_config,show_output = True)"
   ]
  },
  {
   "cell_type": "code",
   "execution_count": 17,
   "metadata": {},
   "outputs": [
    {
     "data": {
      "application/vnd.jupyter.widget-view+json": {
       "model_id": "98eb2b9a06d94952bccb80d01e9c48e6",
       "version_major": 2,
       "version_minor": 0
      },
      "text/plain": [
       "_AutoMLWidget(widget_settings={'childWidgetDisplay': 'popup', 'send_telemetry': False, 'log_level': 'INFO', 's…"
      ]
     },
     "metadata": {},
     "output_type": "display_data"
    },
    {
     "data": {
      "application/aml.mini.widget.v1": "{\"status\": \"Completed\", \"workbench_run_details_uri\": \"https://ml.azure.com/runs/AutoML_87c7adcd-0386-4519-a580-943d7e9cb165?wsid=/subscriptions/73f88e6b-3a35-4612-b550-555157e7059f/resourcegroups/ops_analytics-rg-gb-dev/workspaces/ops_analytics-workspace&tid=cef04b19-7776-4a94-b89b-375c77a8f936\", \"run_id\": \"AutoML_87c7adcd-0386-4519-a580-943d7e9cb165\", \"run_properties\": {\"run_id\": \"AutoML_87c7adcd-0386-4519-a580-943d7e9cb165\", \"created_utc\": \"2021-12-11T04:40:42.757301Z\", \"properties\": {\"num_iterations\": \"1000\", \"training_type\": \"TrainFull\", \"acquisition_function\": \"EI\", \"primary_metric\": \"norm_macro_recall\", \"train_split\": \"0\", \"acquisition_parameter\": \"0\", \"num_cross_validation\": null, \"target\": \"Demo-Cluster\", \"AMLSettingsJsonString\": \"{\\\"path\\\":null,\\\"name\\\":\\\"auto-ml-bankrupt2\\\",\\\"subscription_id\\\":\\\"73f88e6b-3a35-4612-b550-555157e7059f\\\",\\\"resource_group\\\":\\\"ops_analytics-rg-gb-dev\\\",\\\"workspace_name\\\":\\\"ops_analytics-workspace\\\",\\\"region\\\":\\\"westeurope\\\",\\\"compute_target\\\":\\\"Demo-Cluster\\\",\\\"spark_service\\\":null,\\\"azure_service\\\":\\\"remote\\\",\\\"many_models\\\":false,\\\"pipeline_fetch_max_batch_size\\\":1,\\\"enable_batch_run\\\":false,\\\"enable_run_restructure\\\":false,\\\"start_auxiliary_runs_before_parent_complete\\\":false,\\\"enable_code_generation\\\":false,\\\"iterations\\\":1000,\\\"primary_metric\\\":\\\"norm_macro_recall\\\",\\\"task_type\\\":\\\"classification\\\",\\\"data_script\\\":null,\\\"test_size\\\":0.0,\\\"validation_size\\\":0.0,\\\"n_cross_validations\\\":null,\\\"y_min\\\":null,\\\"y_max\\\":null,\\\"num_classes\\\":null,\\\"featurization\\\":\\\"auto\\\",\\\"_ignore_package_version_incompatibilities\\\":false,\\\"is_timeseries\\\":false,\\\"max_cores_per_iteration\\\":1,\\\"max_concurrent_iterations\\\":5,\\\"iteration_timeout_minutes\\\":null,\\\"mem_in_mb\\\":null,\\\"enforce_time_on_windows\\\":false,\\\"experiment_timeout_minutes\\\":40,\\\"experiment_exit_score\\\":null,\\\"whitelist_models\\\":null,\\\"blacklist_algos\\\":[\\\"TensorFlowLinearClassifier\\\",\\\"TensorFlowDNN\\\"],\\\"supported_models\\\":[\\\"TensorFlowDNN\\\",\\\"ExtremeRandomTrees\\\",\\\"MultinomialNaiveBayes\\\",\\\"XGBoostClassifier\\\",\\\"BernoulliNaiveBayes\\\",\\\"KNN\\\",\\\"GradientBoosting\\\",\\\"TensorFlowLinearClassifier\\\",\\\"SVM\\\",\\\"LightGBM\\\",\\\"DecisionTree\\\",\\\"LinearSVM\\\",\\\"RandomForest\\\",\\\"AveragedPerceptronClassifier\\\",\\\"SGD\\\",\\\"LogisticRegression\\\"],\\\"private_models\\\":[],\\\"auto_blacklist\\\":true,\\\"blacklist_samples_reached\\\":false,\\\"exclude_nan_labels\\\":true,\\\"verbosity\\\":20,\\\"_debug_log\\\":\\\"azureml_automl.log\\\",\\\"show_warnings\\\":false,\\\"model_explainability\\\":true,\\\"service_url\\\":null,\\\"sdk_url\\\":null,\\\"sdk_packages\\\":null,\\\"enable_onnx_compatible_models\\\":false,\\\"enable_split_onnx_featurizer_estimator_models\\\":false,\\\"vm_type\\\":\\\"STANDARD_D2S_V3\\\",\\\"telemetry_verbosity\\\":20,\\\"send_telemetry\\\":true,\\\"enable_dnn\\\":false,\\\"scenario\\\":\\\"SDK-1.13.0\\\",\\\"environment_label\\\":null,\\\"save_mlflow\\\":false,\\\"force_text_dnn\\\":false,\\\"enable_feature_sweeping\\\":true,\\\"enable_early_stopping\\\":true,\\\"early_stopping_n_iters\\\":10,\\\"metrics\\\":null,\\\"enable_metric_confidence\\\":false,\\\"enable_ensembling\\\":true,\\\"enable_stack_ensembling\\\":true,\\\"ensemble_iterations\\\":15,\\\"enable_tf\\\":false,\\\"enable_subsampling\\\":null,\\\"subsample_seed\\\":null,\\\"enable_nimbusml\\\":false,\\\"enable_streaming\\\":false,\\\"force_streaming\\\":false,\\\"track_child_runs\\\":true,\\\"allowed_private_models\\\":[],\\\"label_column_name\\\":\\\"Y\\\",\\\"weight_column_name\\\":null,\\\"cv_split_column_names\\\":null,\\\"enable_local_managed\\\":false,\\\"_local_managed_run_id\\\":null,\\\"cost_mode\\\":1,\\\"lag_length\\\":0,\\\"metric_operation\\\":\\\"maximize\\\",\\\"preprocess\\\":true}\", \"DataPrepJsonString\": \"{\\\\\\\"training_data\\\\\\\": {\\\\\\\"datasetId\\\\\\\": \\\\\\\"dfc2aa3e-986f-4345-87af-28294654820f\\\\\\\"}, \\\\\\\"datasets\\\\\\\": 0}\", \"EnableSubsampling\": null, \"runTemplate\": \"AutoML\", \"azureml.runsource\": \"automl\", \"display_task_type\": \"classification\", \"dependencies_versions\": \"{\\\"azureml-widgets\\\": \\\"1.33.0\\\", \\\"azureml-train\\\": \\\"1.33.0\\\", \\\"azureml-train-restclients-hyperdrive\\\": \\\"1.33.0\\\", \\\"azureml-train-core\\\": \\\"1.33.0\\\", \\\"azureml-train-automl\\\": \\\"1.33.0\\\", \\\"azureml-train-automl-runtime\\\": \\\"1.33.0\\\", \\\"azureml-train-automl-client\\\": \\\"1.33.0\\\", \\\"azureml-tensorboard\\\": \\\"1.33.0\\\", \\\"azureml-telemetry\\\": \\\"1.33.0\\\", \\\"azureml-sdk\\\": \\\"1.33.0\\\", \\\"azureml-samples\\\": \\\"0+unknown\\\", \\\"azureml-responsibleai\\\": \\\"1.33.0\\\", \\\"azureml-pipeline\\\": \\\"1.33.0\\\", \\\"azureml-pipeline-steps\\\": \\\"1.33.0\\\", \\\"azureml-pipeline-core\\\": \\\"1.33.0\\\", \\\"azureml-opendatasets\\\": \\\"1.33.0\\\", \\\"azureml-mlflow\\\": \\\"1.33.0\\\", \\\"azureml-interpret\\\": \\\"1.33.0\\\", \\\"azureml-explain-model\\\": \\\"1.33.0\\\", \\\"azureml-defaults\\\": \\\"1.33.0\\\", \\\"azureml-dataset-runtime\\\": \\\"1.33.0\\\", \\\"azureml-dataprep\\\": \\\"2.20.1\\\", \\\"azureml-dataprep-rslex\\\": \\\"1.18.0\\\", \\\"azureml-dataprep-native\\\": \\\"38.0.0\\\", \\\"azureml-datadrift\\\": \\\"1.33.0\\\", \\\"azureml-core\\\": \\\"1.33.0\\\", \\\"azureml-contrib-services\\\": \\\"1.33.0\\\", \\\"azureml-contrib-server\\\": \\\"1.33.0\\\", \\\"azureml-contrib-reinforcementlearning\\\": \\\"1.33.0\\\", \\\"azureml-contrib-pipeline-steps\\\": \\\"1.33.0\\\", \\\"azureml-contrib-notebook\\\": \\\"1.33.0\\\", \\\"azureml-contrib-fairness\\\": \\\"1.33.0\\\", \\\"azureml-contrib-dataset\\\": \\\"1.33.0\\\", \\\"azureml-cli-common\\\": \\\"1.33.0\\\", \\\"azureml-automl-runtime\\\": \\\"1.33.0\\\", \\\"azureml-automl-dnn-nlp\\\": \\\"1.33.0\\\", \\\"azureml-automl-core\\\": \\\"1.33.0\\\", \\\"azureml-accel-models\\\": \\\"1.33.0\\\"}\", \"_aml_system_scenario_identification\": \"Remote.Parent\", \"ClientType\": \"SDK\", \"environment_cpu_name\": \"AzureML-AutoML\", \"environment_cpu_label\": \"prod\", \"environment_gpu_name\": \"AzureML-AutoML-GPU\", \"environment_gpu_label\": \"prod\", \"root_attribution\": \"automl\", \"attribution\": \"AutoML\", \"Orchestrator\": \"AutoML\", \"CancelUri\": \"https://westeurope.api.azureml.ms/jasmine/v1.0/subscriptions/73f88e6b-3a35-4612-b550-555157e7059f/resourceGroups/ops_analytics-rg-gb-dev/providers/Microsoft.MachineLearningServices/workspaces/ops_analytics-workspace/experimentids/ea1096fb-0eca-4d3d-af79-8cfb85134051/cancel/AutoML_87c7adcd-0386-4519-a580-943d7e9cb165\", \"ClientSdkVersion\": \"1.36.1\", \"snapshotId\": \"00000000-0000-0000-0000-000000000000\", \"SetupRunId\": \"AutoML_87c7adcd-0386-4519-a580-943d7e9cb165_setup\", \"SetupRunContainerId\": \"dcid.AutoML_87c7adcd-0386-4519-a580-943d7e9cb165_setup\", \"FeaturizationRunJsonPath\": \"featurizer_container.json\", \"FeaturizationRunId\": \"AutoML_87c7adcd-0386-4519-a580-943d7e9cb165_featurize\", \"ProblemInfoJsonString\": \"{\\\"dataset_num_categorical\\\": 0, \\\"is_sparse\\\": true, \\\"subsampling\\\": false, \\\"has_extra_col\\\": true, \\\"dataset_classes\\\": 2, \\\"dataset_features\\\": 56, \\\"dataset_samples\\\": 4072, \\\"single_frequency_class_detected\\\": false}\", \"ModelExplainRunId\": \"AutoML_87c7adcd-0386-4519-a580-943d7e9cb165_ModelExplain\", \"azureml.git.branch\": \"master\", \"mlflow.source.git.branch\": \"master\", \"azureml.git.commit\": \"a3c5b47ae395dd1677bbfc1ce6d42b58ab484eb0\", \"mlflow.source.git.commit\": \"a3c5b47ae395dd1677bbfc1ce6d42b58ab484eb0\", \"azureml.git.dirty\": \"True\"}, \"tags\": {\"model_explain_run\": \"best_run\", \"_aml_system_azureml.automlComponent\": \"AutoML\", \"pipeline_id\": \"\", \"score\": \"\", \"predicted_cost\": \"\", \"fit_time\": \"\", \"training_percent\": \"\", \"iteration\": \"\", \"run_preprocessor\": \"\", \"run_algorithm\": \"\", \"_aml_system_azureml.automl_early_exit_message\": \"Experiment timeout reached, hence experiment stopped. Current experiment timeout: 0 hour(s) 40 minute(s)\", \"automl_best_child_run_id\": \"AutoML_87c7adcd-0386-4519-a580-943d7e9cb165_25\", \"model_explain_best_run_child_id\": \"AutoML_87c7adcd-0386-4519-a580-943d7e9cb165_25\"}, \"end_time_utc\": \"2021-12-11T05:34:27.081987Z\", \"status\": \"Completed\", \"log_files\": {}, \"log_groups\": [], \"run_duration\": \"0:53:44\", \"run_number\": \"83\", \"run_queued_details\": {\"status\": \"Completed\", \"details\": null}}, \"child_runs\": [{\"run_id\": \"AutoML_87c7adcd-0386-4519-a580-943d7e9cb165_setup\", \"run_number\": 84, \"metric\": null, \"status\": \"Completed\", \"run_type\": \"azureml.scriptrun\", \"training_percent\": null, \"start_time\": \"2021-12-11T04:45:07.035101Z\", \"end_time\": \"2021-12-11T04:46:39.362855Z\", \"created_time\": \"2021-12-11T04:40:56.314786Z\", \"created_time_dt\": \"2021-12-11T04:40:56.314786Z\", \"duration\": \"0:05:43\", \"iteration\": null, \"goal\": null, \"run_name\": \"Completed\", \"run_properties\": null}, {\"run_id\": \"AutoML_87c7adcd-0386-4519-a580-943d7e9cb165_featurize\", \"run_number\": 85, \"metric\": null, \"status\": \"Completed\", \"run_type\": \"automl.featurization\", \"training_percent\": null, \"start_time\": \"2021-12-11T04:46:40.485104Z\", \"end_time\": \"2021-12-11T04:48:29.90976Z\", \"created_time\": \"2021-12-11T04:46:39.880349Z\", \"created_time_dt\": \"2021-12-11T04:46:39.880349Z\", \"duration\": \"0:01:50\", \"iteration\": null, \"goal\": null, \"run_name\": \"Completed\", \"run_properties\": null}, {\"run_id\": \"AutoML_87c7adcd-0386-4519-a580-943d7e9cb165_3\", \"run_number\": 87, \"metric\": null, \"status\": \"Completed\", \"run_type\": \"azureml.scriptrun\", \"training_percent\": \"100\", \"start_time\": \"2021-12-11T04:48:30.990304Z\", \"end_time\": \"2021-12-11T04:53:49.813373Z\", \"created_time\": \"2021-12-11T04:48:30.990304Z\", \"created_time_dt\": \"2021-12-11T04:48:30.990304Z\", \"duration\": \"0:05:18\", \"iteration\": \"3\", \"goal\": \"norm_macro_recall_max\", \"run_name\": \"MaxAbsScaler, ExtremeRandomTrees\", \"run_properties\": \"copy=True\", \"primary_metric\": 0.29116979, \"best_metric\": 0.48646369}, {\"run_id\": \"AutoML_87c7adcd-0386-4519-a580-943d7e9cb165_4\", \"run_number\": 88, \"metric\": null, \"status\": \"Completed\", \"run_type\": \"azureml.scriptrun\", \"training_percent\": \"100\", \"start_time\": \"2021-12-11T04:48:31.013094Z\", \"end_time\": \"2021-12-11T04:57:51.016503Z\", \"created_time\": \"2021-12-11T04:48:31.013094Z\", \"created_time_dt\": \"2021-12-11T04:48:31.013094Z\", \"duration\": \"0:09:20\", \"iteration\": \"4\", \"goal\": \"norm_macro_recall_max\", \"run_name\": \"StandardScalerWrapper, RandomForest\", \"run_properties\": \"\\n    copy=True,\\n    with_mean=False,\\n    with_std=False\\n\", \"primary_metric\": 0.31006434, \"best_metric\": 0.48646369}, {\"run_id\": \"AutoML_87c7adcd-0386-4519-a580-943d7e9cb165_2\", \"run_number\": 89, \"metric\": null, \"status\": \"Completed\", \"run_type\": \"azureml.scriptrun\", \"training_percent\": \"100\", \"start_time\": \"2021-12-11T04:48:31.028846Z\", \"end_time\": \"2021-12-11T04:51:40.428692Z\", \"created_time\": \"2021-12-11T04:48:31.028846Z\", \"created_time_dt\": \"2021-12-11T04:48:31.028846Z\", \"duration\": \"0:03:09\", \"iteration\": \"2\", \"goal\": \"norm_macro_recall_max\", \"run_name\": \"StandardScalerWrapper, ExtremeRandomTrees\", \"run_properties\": \"\\n    copy=True,\\n    with_mean=False,\\n    with_std=False\\n\", \"primary_metric\": 0.06119218, \"best_metric\": 0.48646369}, {\"run_id\": \"AutoML_87c7adcd-0386-4519-a580-943d7e9cb165_1\", \"run_number\": 90, \"metric\": null, \"status\": \"Completed\", \"run_type\": \"azureml.scriptrun\", \"training_percent\": \"100\", \"start_time\": \"2021-12-11T04:48:31.014722Z\", \"end_time\": \"2021-12-11T04:49:40.311014Z\", \"created_time\": \"2021-12-11T04:48:31.014722Z\", \"created_time_dt\": \"2021-12-11T04:48:31.014722Z\", \"duration\": \"0:01:09\", \"iteration\": \"1\", \"goal\": \"norm_macro_recall_max\", \"run_name\": \"MaxAbsScaler, XGBoostClassifier\", \"run_properties\": \"copy=True\", \"primary_metric\": 0.48646369, \"best_metric\": 0.48646369}, {\"run_id\": \"AutoML_87c7adcd-0386-4519-a580-943d7e9cb165_0\", \"run_number\": 91, \"metric\": null, \"status\": \"Completed\", \"run_type\": \"azureml.scriptrun\", \"training_percent\": \"100\", \"start_time\": \"2021-12-11T04:48:31.016841Z\", \"end_time\": \"2021-12-11T04:55:47.746108Z\", \"created_time\": \"2021-12-11T04:48:31.016841Z\", \"created_time_dt\": \"2021-12-11T04:48:31.016841Z\", \"duration\": \"0:07:16\", \"iteration\": \"0\", \"goal\": \"norm_macro_recall_max\", \"run_name\": \"MaxAbsScaler, LightGBM\", \"run_properties\": \"copy=True\", \"primary_metric\": 0.43046111, \"best_metric\": 0.43046111}, {\"run_id\": \"AutoML_87c7adcd-0386-4519-a580-943d7e9cb165_5\", \"run_number\": 92, \"metric\": null, \"status\": \"Completed\", \"run_type\": \"azureml.scriptrun\", \"training_percent\": \"100\", \"start_time\": \"2021-12-11T04:49:42.019512Z\", \"end_time\": \"2021-12-11T04:59:52.245916Z\", \"created_time\": \"2021-12-11T04:49:42.019512Z\", \"created_time_dt\": \"2021-12-11T04:49:42.019512Z\", \"duration\": \"0:10:10\", \"iteration\": \"5\", \"goal\": \"norm_macro_recall_max\", \"run_name\": \"MaxAbsScaler, ExtremeRandomTrees\", \"run_properties\": \"copy=True\", \"primary_metric\": 0.01111991, \"best_metric\": 0.48646369}, {\"run_id\": \"AutoML_87c7adcd-0386-4519-a580-943d7e9cb165_6\", \"run_number\": 93, \"metric\": null, \"status\": \"Completed\", \"run_type\": \"azureml.scriptrun\", \"training_percent\": \"100\", \"start_time\": \"2021-12-11T04:51:43.537961Z\", \"end_time\": \"2021-12-11T05:01:49.589261Z\", \"created_time\": \"2021-12-11T04:51:43.537961Z\", \"created_time_dt\": \"2021-12-11T04:51:43.537961Z\", \"duration\": \"0:10:06\", \"iteration\": \"6\", \"goal\": \"norm_macro_recall_max\", \"run_name\": \"SparseNormalizer, ExtremeRandomTrees\", \"run_properties\": \"copy=True, norm='l2'\", \"primary_metric\": 0.68424007, \"best_metric\": 0.68424007}, {\"run_id\": \"AutoML_87c7adcd-0386-4519-a580-943d7e9cb165_7\", \"run_number\": 94, \"metric\": null, \"status\": \"Completed\", \"run_type\": \"azureml.scriptrun\", \"training_percent\": \"100\", \"start_time\": \"2021-12-11T04:53:52.928361Z\", \"end_time\": \"2021-12-11T05:04:12.221739Z\", \"created_time\": \"2021-12-11T04:53:52.928361Z\", \"created_time_dt\": \"2021-12-11T04:53:52.928361Z\", \"duration\": \"0:10:19\", \"iteration\": \"7\", \"goal\": \"norm_macro_recall_max\", \"run_name\": \"SparseNormalizer, XGBoostClassifier\", \"run_properties\": \"copy=True, norm='max'\", \"primary_metric\": 0.58679511, \"best_metric\": 0.68424007}, {\"run_id\": \"AutoML_87c7adcd-0386-4519-a580-943d7e9cb165_8\", \"run_number\": 95, \"metric\": null, \"status\": \"Completed\", \"run_type\": \"azureml.scriptrun\", \"training_percent\": \"100\", \"start_time\": \"2021-12-11T04:55:51.319741Z\", \"end_time\": \"2021-12-11T05:05:50.948281Z\", \"created_time\": \"2021-12-11T04:55:51.319741Z\", \"created_time_dt\": \"2021-12-11T04:55:51.319741Z\", \"duration\": \"0:09:59\", \"iteration\": \"8\", \"goal\": \"norm_macro_recall_max\", \"run_name\": \"MaxAbsScaler, RandomForest\", \"run_properties\": \"copy=True\", \"primary_metric\": 0.5159604, \"best_metric\": 0.68424007}, {\"run_id\": \"AutoML_87c7adcd-0386-4519-a580-943d7e9cb165_9\", \"run_number\": 96, \"metric\": null, \"status\": \"Completed\", \"run_type\": \"azureml.scriptrun\", \"training_percent\": \"100\", \"start_time\": \"2021-12-11T04:58:15.091433Z\", \"end_time\": \"2021-12-11T05:07:57.037354Z\", \"created_time\": \"2021-12-11T04:58:15.091433Z\", \"created_time_dt\": \"2021-12-11T04:58:15.091433Z\", \"duration\": \"0:09:41\", \"iteration\": \"9\", \"goal\": \"norm_macro_recall_max\", \"run_name\": \"MaxAbsScaler, RandomForest\", \"run_properties\": \"copy=True\", \"primary_metric\": 0.10827973, \"best_metric\": 0.68424007}, {\"run_id\": \"AutoML_87c7adcd-0386-4519-a580-943d7e9cb165_10\", \"run_number\": 97, \"metric\": null, \"status\": \"Completed\", \"run_type\": \"azureml.scriptrun\", \"training_percent\": \"100\", \"start_time\": \"2021-12-11T04:59:55.431961Z\", \"end_time\": \"2021-12-11T05:09:52.202369Z\", \"created_time\": \"2021-12-11T04:59:55.431961Z\", \"created_time_dt\": \"2021-12-11T04:59:55.431961Z\", \"duration\": \"0:09:56\", \"iteration\": \"10\", \"goal\": \"norm_macro_recall_max\", \"run_name\": \"MaxAbsScaler, ExtremeRandomTrees\", \"run_properties\": \"copy=True\", \"primary_metric\": 0.13569917, \"best_metric\": 0.68424007}, {\"run_id\": \"AutoML_87c7adcd-0386-4519-a580-943d7e9cb165_11\", \"run_number\": 98, \"metric\": null, \"status\": \"Completed\", \"run_type\": \"azureml.scriptrun\", \"training_percent\": \"100\", \"start_time\": \"2021-12-11T05:01:52.872634Z\", \"end_time\": \"2021-12-11T05:11:50.923312Z\", \"created_time\": \"2021-12-11T05:01:52.872634Z\", \"created_time_dt\": \"2021-12-11T05:01:52.872634Z\", \"duration\": \"0:09:58\", \"iteration\": \"11\", \"goal\": \"norm_macro_recall_max\", \"run_name\": \"MaxAbsScaler, SGD\", \"run_properties\": \"copy=True\", \"primary_metric\": 0.01779432, \"best_metric\": 0.68424007}, {\"run_id\": \"AutoML_87c7adcd-0386-4519-a580-943d7e9cb165_12\", \"run_number\": 99, \"metric\": null, \"status\": \"Completed\", \"run_type\": \"azureml.scriptrun\", \"training_percent\": \"100\", \"start_time\": \"2021-12-11T05:04:15.223899Z\", \"end_time\": \"2021-12-11T05:13:58.867547Z\", \"created_time\": \"2021-12-11T05:04:15.223899Z\", \"created_time_dt\": \"2021-12-11T05:04:15.223899Z\", \"duration\": \"0:09:43\", \"iteration\": \"12\", \"goal\": \"norm_macro_recall_max\", \"run_name\": \"StandardScalerWrapper, RandomForest\", \"run_properties\": \"\\n    copy=True,\\n    with_mean=False,\\n    with_std=False\\n\", \"primary_metric\": 0.49061495, \"best_metric\": 0.68424007}, {\"run_id\": \"AutoML_87c7adcd-0386-4519-a580-943d7e9cb165_13\", \"run_number\": 100, \"metric\": null, \"status\": \"Completed\", \"run_type\": \"azureml.scriptrun\", \"training_percent\": \"100\", \"start_time\": \"2021-12-11T05:05:54.096244Z\", \"end_time\": \"2021-12-11T05:16:30.42707Z\", \"created_time\": \"2021-12-11T05:05:54.096244Z\", \"created_time_dt\": \"2021-12-11T05:05:54.096244Z\", \"duration\": \"0:10:36\", \"iteration\": \"13\", \"goal\": \"norm_macro_recall_max\", \"run_name\": \"StandardScalerWrapper, LogisticRegression\", \"run_properties\": \"\\n    copy=True,\\n    with_mean=False,\\n    with_std=False\\n\", \"primary_metric\": 0.67578024, \"best_metric\": 0.68424007}, {\"run_id\": \"AutoML_87c7adcd-0386-4519-a580-943d7e9cb165_14\", \"run_number\": 101, \"metric\": null, \"status\": \"Completed\", \"run_type\": \"azureml.scriptrun\", \"training_percent\": \"100\", \"start_time\": \"2021-12-11T05:08:00.594412Z\", \"end_time\": \"2021-12-11T05:18:59.422337Z\", \"created_time\": \"2021-12-11T05:08:00.594412Z\", \"created_time_dt\": \"2021-12-11T05:08:00.594412Z\", \"duration\": \"0:10:58\", \"iteration\": \"14\", \"goal\": \"norm_macro_recall_max\", \"run_name\": \"MaxAbsScaler, RandomForest\", \"run_properties\": \"copy=True\", \"primary_metric\": 0.48163455, \"best_metric\": 0.68424007}, {\"run_id\": \"AutoML_87c7adcd-0386-4519-a580-943d7e9cb165_15\", \"run_number\": 102, \"metric\": null, \"status\": \"Completed\", \"run_type\": \"azureml.scriptrun\", \"training_percent\": \"100\", \"start_time\": \"2021-12-11T05:09:55.269607Z\", \"end_time\": \"2021-12-11T05:20:59.341123Z\", \"created_time\": \"2021-12-11T05:09:55.269607Z\", \"created_time_dt\": \"2021-12-11T05:09:55.269607Z\", \"duration\": \"0:11:04\", \"iteration\": \"15\", \"goal\": \"norm_macro_recall_max\", \"run_name\": \"StandardScalerWrapper, XGBoostClassifier\", \"run_properties\": \"\\n    copy=True,\\n    with_mean=False,\\n    with_std=False\\n\", \"primary_metric\": 0.58012788, \"best_metric\": 0.68424007}, {\"run_id\": \"AutoML_87c7adcd-0386-4519-a580-943d7e9cb165_16\", \"run_number\": 103, \"metric\": null, \"status\": \"Completed\", \"run_type\": \"azureml.scriptrun\", \"training_percent\": \"100\", \"start_time\": \"2021-12-11T05:11:54.225538Z\", \"end_time\": \"2021-12-11T05:22:55.333084Z\", \"created_time\": \"2021-12-11T05:11:54.225538Z\", \"created_time_dt\": \"2021-12-11T05:11:54.225538Z\", \"duration\": \"0:11:01\", \"iteration\": \"16\", \"goal\": \"norm_macro_recall_max\", \"run_name\": \"MaxAbsScaler, SGD\", \"run_properties\": \"copy=True\", \"primary_metric\": 0.49372628, \"best_metric\": 0.68424007}, {\"run_id\": \"AutoML_87c7adcd-0386-4519-a580-943d7e9cb165_17\", \"run_number\": 104, \"metric\": null, \"status\": \"Completed\", \"run_type\": \"azureml.scriptrun\", \"training_percent\": \"100\", \"start_time\": \"2021-12-11T05:14:02.074848Z\", \"end_time\": \"2021-12-11T05:24:25.097978Z\", \"created_time\": \"2021-12-11T05:14:02.074848Z\", \"created_time_dt\": \"2021-12-11T05:14:02.074848Z\", \"duration\": \"0:10:23\", \"iteration\": \"17\", \"goal\": \"norm_macro_recall_max\", \"run_name\": \"StandardScalerWrapper, RandomForest\", \"run_properties\": \"\\n    copy=True,\\n    with_mean=False,\\n    with_std=True\\n\", \"primary_metric\": 0.46802349, \"best_metric\": 0.68424007}, {\"run_id\": \"AutoML_87c7adcd-0386-4519-a580-943d7e9cb165_18\", \"run_number\": 105, \"metric\": null, \"status\": \"Completed\", \"run_type\": \"azureml.scriptrun\", \"training_percent\": \"100\", \"start_time\": \"2021-12-11T05:16:34.026893Z\", \"end_time\": \"2021-12-11T05:26:01.787764Z\", \"created_time\": \"2021-12-11T05:16:34.026893Z\", \"created_time_dt\": \"2021-12-11T05:16:34.026893Z\", \"duration\": \"0:09:27\", \"iteration\": \"18\", \"goal\": \"norm_macro_recall_max\", \"run_name\": \"SparseNormalizer, RandomForest\", \"run_properties\": \"copy=True, norm='l1'\", \"primary_metric\": 0.63663327, \"best_metric\": 0.68424007}, {\"run_id\": \"AutoML_87c7adcd-0386-4519-a580-943d7e9cb165_19\", \"run_number\": 106, \"metric\": null, \"status\": \"Completed\", \"run_type\": \"azureml.scriptrun\", \"training_percent\": \"100\", \"start_time\": \"2021-12-11T05:19:02.436562Z\", \"end_time\": \"2021-12-11T05:28:07.620971Z\", \"created_time\": \"2021-12-11T05:19:02.436562Z\", \"created_time_dt\": \"2021-12-11T05:19:02.436562Z\", \"duration\": \"0:09:05\", \"iteration\": \"19\", \"goal\": \"norm_macro_recall_max\", \"run_name\": \"MaxAbsScaler, RandomForest\", \"run_properties\": \"copy=True\", \"primary_metric\": 0.30267736, \"best_metric\": 0.68424007}, {\"run_id\": \"AutoML_87c7adcd-0386-4519-a580-943d7e9cb165_20\", \"run_number\": 107, \"metric\": null, \"status\": \"Completed\", \"run_type\": \"azureml.scriptrun\", \"training_percent\": \"100\", \"start_time\": \"2021-12-11T05:21:02.737301Z\", \"end_time\": \"2021-12-11T05:30:16.636176Z\", \"created_time\": \"2021-12-11T05:21:02.737301Z\", \"created_time_dt\": \"2021-12-11T05:21:02.737301Z\", \"duration\": \"0:09:13\", \"iteration\": \"20\", \"goal\": \"norm_macro_recall_max\", \"run_name\": \"StandardScalerWrapper, ExtremeRandomTrees\", \"run_properties\": \"\\n    copy=True,\\n    with_mean=False,\\n    with_std=False\\n\", \"primary_metric\": 0.08448942, \"best_metric\": 0.68424007}, {\"run_id\": \"AutoML_87c7adcd-0386-4519-a580-943d7e9cb165_21\", \"run_number\": 108, \"metric\": null, \"status\": \"Canceled\", \"run_type\": \"azureml.scriptrun\", \"training_percent\": \"100\", \"start_time\": \"2021-12-11T05:22:58.694266Z\", \"end_time\": \"2021-12-11T05:30:18.465149Z\", \"created_time\": \"2021-12-11T05:22:58.694266Z\", \"created_time_dt\": \"2021-12-11T05:22:58.694266Z\", \"duration\": \"0:07:19\", \"iteration\": \"21\", \"goal\": null, \"run_name\": \"Canceled\", \"run_properties\": null}, {\"run_id\": \"AutoML_87c7adcd-0386-4519-a580-943d7e9cb165_22\", \"run_number\": 109, \"metric\": null, \"status\": \"Canceled\", \"run_type\": \"azureml.scriptrun\", \"training_percent\": \"100\", \"start_time\": \"2021-12-11T05:24:28.874862Z\", \"end_time\": \"2021-12-11T05:30:18.371886Z\", \"created_time\": \"2021-12-11T05:24:28.874862Z\", \"created_time_dt\": \"2021-12-11T05:24:28.874862Z\", \"duration\": \"0:05:49\", \"iteration\": \"22\", \"goal\": null, \"run_name\": \"Canceled\", \"run_properties\": null}, {\"run_id\": \"AutoML_87c7adcd-0386-4519-a580-943d7e9cb165_23\", \"run_number\": 110, \"metric\": null, \"status\": \"Canceled\", \"run_type\": \"azureml.scriptrun\", \"training_percent\": \"100\", \"start_time\": \"2021-12-11T05:26:05.008897Z\", \"end_time\": \"2021-12-11T05:30:18.392408Z\", \"created_time\": \"2021-12-11T05:26:05.008897Z\", \"created_time_dt\": \"2021-12-11T05:26:05.008897Z\", \"duration\": \"0:04:13\", \"iteration\": \"23\", \"goal\": null, \"run_name\": \"Canceled\", \"run_properties\": null}, {\"run_id\": \"AutoML_87c7adcd-0386-4519-a580-943d7e9cb165_24\", \"run_number\": 111, \"metric\": null, \"status\": \"Canceled\", \"run_type\": \"azureml.scriptrun\", \"training_percent\": \"100\", \"start_time\": \"2021-12-11T05:28:10.906348Z\", \"end_time\": \"2021-12-11T05:30:18.367155Z\", \"created_time\": \"2021-12-11T05:28:10.906348Z\", \"created_time_dt\": \"2021-12-11T05:28:10.906348Z\", \"duration\": \"0:02:07\", \"iteration\": \"24\", \"goal\": null, \"run_name\": \"Canceled\", \"run_properties\": null}, {\"run_id\": \"AutoML_87c7adcd-0386-4519-a580-943d7e9cb165_25\", \"run_number\": 112, \"metric\": null, \"status\": \"Completed\", \"run_type\": \"azureml.scriptrun\", \"training_percent\": \"100\", \"start_time\": \"2021-12-11T05:30:20.162339Z\", \"end_time\": \"2021-12-11T05:32:25.778639Z\", \"created_time\": \"2021-12-11T05:30:20.162339Z\", \"created_time_dt\": \"2021-12-11T05:30:20.162339Z\", \"duration\": \"0:02:05\", \"iteration\": \"25\", \"goal\": \"norm_macro_recall_max\", \"run_name\": \"VotingEnsemble\", \"run_properties\": \"\\n    estimators=[('6', Pipeline(\\n        memory=None,\\n        steps=[('sparsenormalizer', Normalizer(\\n            copy=True,\\n            norm='l2'\\n        \", \"primary_metric\": 0.7035208, \"best_metric\": 0.7035208}, {\"run_id\": \"AutoML_87c7adcd-0386-4519-a580-943d7e9cb165_26\", \"run_number\": 113, \"metric\": null, \"status\": \"Completed\", \"run_type\": \"azureml.scriptrun\", \"training_percent\": \"100\", \"start_time\": \"2021-12-11T05:30:20.185511Z\", \"end_time\": \"2021-12-11T05:34:24.863161Z\", \"created_time\": \"2021-12-11T05:30:20.185511Z\", \"created_time_dt\": \"2021-12-11T05:30:20.185511Z\", \"duration\": \"0:04:04\", \"iteration\": \"26\", \"goal\": \"norm_macro_recall_max\", \"run_name\": \"StackEnsemble\", \"run_properties\": \"\\n    base_learners=[('6', Pipeline(\\n        memory=None,\\n        steps=[('sparsenormalizer', Normalizer(\\n            copy=True,\\n            norm='l2'\\n        \", \"primary_metric\": 0.15053825, \"best_metric\": 0.7035208}], \"children_metrics\": {\"categories\": [0], \"series\": {\"f1_score_micro\": [{\"categories\": [\"0\", \"1\", \"2\", \"3\", \"4\", \"5\", \"6\", \"7\", \"8\", \"9\", \"10\", \"11\", \"12\", \"13\", \"14\", \"15\", \"16\", \"17\", \"18\", \"19\", \"20\", \"25\", \"26\"], \"mode\": \"markers\", \"name\": \"f1_score_micro\", \"stepped\": false, \"type\": \"scatter\", \"data\": [0.710083863895592, 0.7397373642415833, 0.5432981899122639, 0.6497088096233565, 0.662369641017703, 0.494112100611841, 0.8475826577127851, 0.7986612078194382, 0.7581636794316259, 0.544720474720807, 0.5708854048517918, 0.4976502724357732, 0.7581999012704609, 0.8455024769293535, 0.7475206570782231, 0.7948390773101748, 0.7551337887320715, 0.7487304939772969, 0.8243957357681118, 0.660402019243468, 0.5405584203043499, 0.8577471249931826, 0.578403314282805]}, {\"categories\": [\"0\", \"1\", \"2\", \"3\", \"4\", \"5\", \"6\", \"7\", \"8\", \"9\", \"10\", \"11\", \"12\", \"13\", \"14\", \"15\", \"16\", \"17\", \"18\", \"19\", \"20\", \"25\", \"26\"], \"mode\": \"lines\", \"name\": \"f1_score_micro_max\", \"stepped\": true, \"type\": \"scatter\", \"data\": [0.710083863895592, 0.7397373642415833, 0.7397373642415833, 0.7397373642415833, 0.7397373642415833, 0.7397373642415833, 0.8475826577127851, 0.8475826577127851, 0.8475826577127851, 0.8475826577127851, 0.8475826577127851, 0.8475826577127851, 0.8475826577127851, 0.8475826577127851, 0.8475826577127851, 0.8475826577127851, 0.8475826577127851, 0.8475826577127851, 0.8475826577127851, 0.8475826577127851, 0.8475826577127851, 0.8577471249931826, 0.8577471249931826]}], \"recall_score_weighted\": [{\"categories\": [\"0\", \"1\", \"2\", \"3\", \"4\", \"5\", \"6\", \"7\", \"8\", \"9\", \"10\", \"11\", \"12\", \"13\", \"14\", \"15\", \"16\", \"17\", \"18\", \"19\", \"20\", \"25\", \"26\"], \"mode\": \"markers\", \"name\": \"recall_score_weighted\", \"stepped\": false, \"type\": \"scatter\", \"data\": [0.7100838638955939, 0.7397373642415848, 0.5432981899122686, 0.6497088096233565, 0.6623696410177035, 0.49411210061184646, 0.8475826577127851, 0.7986612078194385, 0.7581636794316259, 0.5447204747208111, 0.5708854048517934, 0.49765027243577853, 0.7581999012704618, 0.8455024769293535, 0.7475206570782232, 0.7948390773101751, 0.755133788732072, 0.7487304939772969, 0.8243957357681118, 0.6604020192434682, 0.5405584203043514, 0.8577471249931826, 0.5784033142828097]}, {\"categories\": [\"0\", \"1\", \"2\", \"3\", \"4\", \"5\", \"6\", \"7\", \"8\", \"9\", \"10\", \"11\", \"12\", \"13\", \"14\", \"15\", \"16\", \"17\", \"18\", \"19\", \"20\", \"25\", \"26\"], \"mode\": \"lines\", \"name\": \"recall_score_weighted_max\", \"stepped\": true, \"type\": \"scatter\", \"data\": [0.7100838638955939, 0.7397373642415848, 0.7397373642415848, 0.7397373642415848, 0.7397373642415848, 0.7397373642415848, 0.8475826577127851, 0.8475826577127851, 0.8475826577127851, 0.8475826577127851, 0.8475826577127851, 0.8475826577127851, 0.8475826577127851, 0.8475826577127851, 0.8475826577127851, 0.8475826577127851, 0.8475826577127851, 0.8475826577127851, 0.8475826577127851, 0.8475826577127851, 0.8475826577127851, 0.8577471249931826, 0.8577471249931826]}], \"f1_score_macro\": [{\"categories\": [\"0\", \"1\", \"2\", \"3\", \"4\", \"5\", \"6\", \"7\", \"8\", \"9\", \"10\", \"11\", \"12\", \"13\", \"14\", \"15\", \"16\", \"17\", \"18\", \"19\", \"20\", \"25\", \"26\"], \"mode\": \"markers\", \"name\": \"f1_score_macro\", \"stepped\": false, \"type\": \"scatter\", \"data\": [0.6813325162758126, 0.7209141128070048, 0.4005418598197468, 0.6372078546703125, 0.64426612776525, 0.33833649682450134, 0.8409758306114977, 0.784344934205104, 0.7517980182022335, 0.4357943207976487, 0.531200485982374, 0.3455882278158983, 0.7371980555324887, 0.8386941485710028, 0.7404996569213464, 0.7805376411840426, 0.7364340878104091, 0.7363880699780553, 0.8141101222376116, 0.6446456205028559, 0.47774008443786875, 0.8510311519926933, 0.4565356056980023]}, {\"categories\": [\"0\", \"1\", \"2\", \"3\", \"4\", \"5\", \"6\", \"7\", \"8\", \"9\", \"10\", \"11\", \"12\", \"13\", \"14\", \"15\", \"16\", \"17\", \"18\", \"19\", \"20\", \"25\", \"26\"], \"mode\": \"lines\", \"name\": \"f1_score_macro_max\", \"stepped\": true, \"type\": \"scatter\", \"data\": [0.6813325162758126, 0.7209141128070048, 0.7209141128070048, 0.7209141128070048, 0.7209141128070048, 0.7209141128070048, 0.8409758306114977, 0.8409758306114977, 0.8409758306114977, 0.8409758306114977, 0.8409758306114977, 0.8409758306114977, 0.8409758306114977, 0.8409758306114977, 0.8409758306114977, 0.8409758306114977, 0.8409758306114977, 0.8409758306114977, 0.8409758306114977, 0.8409758306114977, 0.8409758306114977, 0.8510311519926933, 0.8510311519926933]}], \"precision_score_micro\": [{\"categories\": [\"0\", \"1\", \"2\", \"3\", \"4\", \"5\", \"6\", \"7\", \"8\", \"9\", \"10\", \"11\", \"12\", \"13\", \"14\", \"15\", \"16\", \"17\", \"18\", \"19\", \"20\", \"25\", \"26\"], \"mode\": \"markers\", \"name\": \"precision_score_micro\", \"stepped\": false, \"type\": \"scatter\", \"data\": [0.7100838638955901, 0.7397373642415818, 0.5432981899122592, 0.6497088096233564, 0.6623696410177028, 0.4941121006118357, 0.8475826577127851, 0.7986612078194378, 0.7581636794316259, 0.5447204747208029, 0.5708854048517904, 0.49765027243576804, 0.7581999012704603, 0.8455024769293535, 0.7475206570782231, 0.7948390773101747, 0.7551337887320709, 0.7487304939772965, 0.8243957357681119, 0.6604020192434678, 0.5405584203043482, 0.8577471249931826, 0.5784033142828003]}, {\"categories\": [\"0\", \"1\", \"2\", \"3\", \"4\", \"5\", \"6\", \"7\", \"8\", \"9\", \"10\", \"11\", \"12\", \"13\", \"14\", \"15\", \"16\", \"17\", \"18\", \"19\", \"20\", \"25\", \"26\"], \"mode\": \"lines\", \"name\": \"precision_score_micro_max\", \"stepped\": true, \"type\": \"scatter\", \"data\": [0.7100838638955901, 0.7397373642415818, 0.7397373642415818, 0.7397373642415818, 0.7397373642415818, 0.7397373642415818, 0.8475826577127851, 0.8475826577127851, 0.8475826577127851, 0.8475826577127851, 0.8475826577127851, 0.8475826577127851, 0.8475826577127851, 0.8475826577127851, 0.8475826577127851, 0.8475826577127851, 0.8475826577127851, 0.8475826577127851, 0.8475826577127851, 0.8475826577127851, 0.8475826577127851, 0.8577471249931826, 0.8577471249931826]}], \"AUC_macro\": [{\"categories\": [\"0\", \"1\", \"2\", \"3\", \"4\", \"5\", \"6\", \"7\", \"8\", \"9\", \"10\", \"11\", \"12\", \"13\", \"14\", \"15\", \"16\", \"17\", \"18\", \"19\", \"20\", \"25\", \"26\"], \"mode\": \"markers\", \"name\": \"AUC_macro\", \"stepped\": false, \"type\": \"scatter\", \"data\": [0.8735593895139941, 0.8559125501635227, 0.8291412606048487, 0.7892489219431694, 0.7801797972799948, 0.7870324500440926, 0.8950346369581729, 0.8724133439392112, 0.8499565420505095, 0.8355119344150141, 0.7547102239092505, 0.595116422912353, 0.8217032849941451, 0.8663654540803535, 0.8517339463201479, 0.8871455202696309, 0.8622330247352146, 0.806668591375287, 0.8776043041714497, 0.81753515201388, 0.7718435143919651, 0.9059859927999835, 0.8843871481633743]}, {\"categories\": [\"0\", \"1\", \"2\", \"3\", \"4\", \"5\", \"6\", \"7\", \"8\", \"9\", \"10\", \"11\", \"12\", \"13\", \"14\", \"15\", \"16\", \"17\", \"18\", \"19\", \"20\", \"25\", \"26\"], \"mode\": \"lines\", \"name\": \"AUC_macro_max\", \"stepped\": true, \"type\": \"scatter\", \"data\": [0.8735593895139941, 0.8735593895139941, 0.8735593895139941, 0.8735593895139941, 0.8735593895139941, 0.8735593895139941, 0.8950346369581729, 0.8950346369581729, 0.8950346369581729, 0.8950346369581729, 0.8950346369581729, 0.8950346369581729, 0.8950346369581729, 0.8950346369581729, 0.8950346369581729, 0.8950346369581729, 0.8950346369581729, 0.8950346369581729, 0.8950346369581729, 0.8950346369581729, 0.8950346369581729, 0.9059859927999835, 0.9059859927999835]}], \"norm_macro_recall\": [{\"categories\": [\"0\", \"1\", \"2\", \"3\", \"4\", \"5\", \"6\", \"7\", \"8\", \"9\", \"10\", \"11\", \"12\", \"13\", \"14\", \"15\", \"16\", \"17\", \"18\", \"19\", \"20\", \"25\", \"26\"], \"mode\": \"markers\", \"name\": \"norm_macro_recall\", \"stepped\": false, \"type\": \"scatter\", \"data\": [0.430461106670414, 0.4864636851980037, 0.06119217693793274, 0.29116978971387364, 0.31006434207080197, 0.011119908980489276, 0.6842400675068534, 0.5867951080739652, 0.5159603990993902, 0.10827972817636018, 0.135699166954825, 0.017794321867468987, 0.49061495450166864, 0.6757802358774129, 0.48163455472520295, 0.5801278751835762, 0.49372627998258145, 0.4680234912295828, 0.6366332721615969, 0.30267735509451227, 0.08448941976260944, 0.7035207972737542, 0.15053825411033603]}, {\"categories\": [\"0\", \"1\", \"2\", \"3\", \"4\", \"5\", \"6\", \"7\", \"8\", \"9\", \"10\", \"11\", \"12\", \"13\", \"14\", \"15\", \"16\", \"17\", \"18\", \"19\", \"20\", \"25\", \"26\"], \"mode\": \"lines\", \"name\": \"norm_macro_recall_max\", \"stepped\": true, \"type\": \"scatter\", \"data\": [0.430461106670414, 0.4864636851980037, 0.4864636851980037, 0.4864636851980037, 0.4864636851980037, 0.4864636851980037, 0.6842400675068534, 0.6842400675068534, 0.6842400675068534, 0.6842400675068534, 0.6842400675068534, 0.6842400675068534, 0.6842400675068534, 0.6842400675068534, 0.6842400675068534, 0.6842400675068534, 0.6842400675068534, 0.6842400675068534, 0.6842400675068534, 0.6842400675068534, 0.6842400675068534, 0.7035207972737542, 0.7035207972737542]}], \"precision_score_weighted\": [{\"categories\": [\"0\", \"1\", \"2\", \"3\", \"4\", \"5\", \"6\", \"7\", \"8\", \"9\", \"10\", \"11\", \"12\", \"13\", \"14\", \"15\", \"16\", \"17\", \"18\", \"19\", \"20\", \"25\", \"26\"], \"mode\": \"markers\", \"name\": \"precision_score_weighted\", \"stepped\": false, \"type\": \"scatter\", \"data\": [0.8229319908375828, 0.827699405334878, 0.625845841889335, 0.6723235696184081, 0.6945554738144922, 0.6184323938836981, 0.8607633131854014, 0.8503069518288222, 0.775771214238962, 0.769765539586568, 0.6454486735128376, 0.7582993744674319, 0.7842794548779018, 0.8581346696578901, 0.7565263306643503, 0.8443087631309187, 0.7751777436899516, 0.7538932495615116, 0.8563301641487683, 0.6812620233548211, 0.6252780129967151, 0.8744579020104254, 0.7752830641086784]}, {\"categories\": [\"0\", \"1\", \"2\", \"3\", \"4\", \"5\", \"6\", \"7\", \"8\", \"9\", \"10\", \"11\", \"12\", \"13\", \"14\", \"15\", \"16\", \"17\", \"18\", \"19\", \"20\", \"25\", \"26\"], \"mode\": \"lines\", \"name\": \"precision_score_weighted_max\", \"stepped\": true, \"type\": \"scatter\", \"data\": [0.8229319908375828, 0.827699405334878, 0.827699405334878, 0.827699405334878, 0.827699405334878, 0.827699405334878, 0.8607633131854014, 0.8607633131854014, 0.8607633131854014, 0.8607633131854014, 0.8607633131854014, 0.8607633131854014, 0.8607633131854014, 0.8607633131854014, 0.8607633131854014, 0.8607633131854014, 0.8607633131854014, 0.8607633131854014, 0.8607633131854014, 0.8607633131854014, 0.8607633131854014, 0.8744579020104254, 0.8744579020104254]}], \"average_precision_score_macro\": [{\"categories\": [\"0\", \"1\", \"2\", \"3\", \"4\", \"5\", \"6\", \"7\", \"8\", \"9\", \"10\", \"11\", \"12\", \"13\", \"14\", \"15\", \"16\", \"17\", \"18\", \"19\", \"20\", \"25\", \"26\"], \"mode\": \"markers\", \"name\": \"average_precision_score_macro\", \"stepped\": false, \"type\": \"scatter\", \"data\": [0.8709752965014997, 0.8710957893197359, 0.7931249729086293, 0.7839193488801226, 0.8032005136574257, 0.8099833588703094, 0.9016873998395695, 0.8725716574345572, 0.8446080868608853, 0.8525518040431473, 0.7645966654155277, 0.5975187358260999, 0.8033889037465127, 0.8628988472627176, 0.8653645766710305, 0.8858050194784597, 0.8541397756729573, 0.8233219851013315, 0.8755349537471604, 0.8324297101805795, 0.7990197926141613, 0.9193089268937648, 0.894996939121309]}, {\"categories\": [\"0\", \"1\", \"2\", \"3\", \"4\", \"5\", \"6\", \"7\", \"8\", \"9\", \"10\", \"11\", \"12\", \"13\", \"14\", \"15\", \"16\", \"17\", \"18\", \"19\", \"20\", \"25\", \"26\"], \"mode\": \"lines\", \"name\": \"average_precision_score_macro_max\", \"stepped\": true, \"type\": \"scatter\", \"data\": [0.8709752965014997, 0.8710957893197359, 0.8710957893197359, 0.8710957893197359, 0.8710957893197359, 0.8710957893197359, 0.9016873998395695, 0.9016873998395695, 0.9016873998395695, 0.9016873998395695, 0.9016873998395695, 0.9016873998395695, 0.9016873998395695, 0.9016873998395695, 0.9016873998395695, 0.9016873998395695, 0.9016873998395695, 0.9016873998395695, 0.9016873998395695, 0.9016873998395695, 0.9016873998395695, 0.9193089268937648, 0.9193089268937648]}], \"precision_score_macro\": [{\"categories\": [\"0\", \"1\", \"2\", \"3\", \"4\", \"5\", \"6\", \"7\", \"8\", \"9\", \"10\", \"11\", \"12\", \"13\", \"14\", \"15\", \"16\", \"17\", \"18\", \"19\", \"20\", \"25\", \"26\"], \"mode\": \"markers\", \"name\": \"precision_score_macro\", \"stepped\": false, \"type\": \"scatter\", \"data\": [0.8164772786519704, 0.8215088394281244, 0.5902819566362817, 0.6660412250707042, 0.688276118482592, 0.5787689451241066, 0.8576028751019584, 0.8486626339982896, 0.7665958240009779, 0.7581838550203818, 0.6439322709199423, 0.7462279293190952, 0.7836635588810514, 0.8573101572936564, 0.7511725836560954, 0.8416139793884954, 0.7713308735331804, 0.7528497633795195, 0.8541326007790454, 0.675612151673243, 0.6274989626698522, 0.8724414364138761, 0.7679216869989229]}, {\"categories\": [\"0\", \"1\", \"2\", \"3\", \"4\", \"5\", \"6\", \"7\", \"8\", \"9\", \"10\", \"11\", \"12\", \"13\", \"14\", \"15\", \"16\", \"17\", \"18\", \"19\", \"20\", \"25\", \"26\"], \"mode\": \"lines\", \"name\": \"precision_score_macro_max\", \"stepped\": true, \"type\": \"scatter\", \"data\": [0.8164772786519704, 0.8215088394281244, 0.8215088394281244, 0.8215088394281244, 0.8215088394281244, 0.8215088394281244, 0.8576028751019584, 0.8576028751019584, 0.8576028751019584, 0.8576028751019584, 0.8576028751019584, 0.8576028751019584, 0.8576028751019584, 0.8576028751019584, 0.8576028751019584, 0.8576028751019584, 0.8576028751019584, 0.8576028751019584, 0.8576028751019584, 0.8576028751019584, 0.8576028751019584, 0.8724414364138761, 0.8724414364138761]}], \"recall_score_micro\": [{\"categories\": [\"0\", \"1\", \"2\", \"3\", \"4\", \"5\", \"6\", \"7\", \"8\", \"9\", \"10\", \"11\", \"12\", \"13\", \"14\", \"15\", \"16\", \"17\", \"18\", \"19\", \"20\", \"25\", \"26\"], \"mode\": \"markers\", \"name\": \"recall_score_micro\", \"stepped\": false, \"type\": \"scatter\", \"data\": [0.7100838638955939, 0.7397373642415848, 0.5432981899122686, 0.6497088096233565, 0.6623696410177035, 0.49411210061184646, 0.8475826577127851, 0.7986612078194385, 0.7581636794316259, 0.5447204747208111, 0.5708854048517934, 0.49765027243577853, 0.7581999012704618, 0.8455024769293535, 0.7475206570782232, 0.7948390773101751, 0.755133788732072, 0.7487304939772969, 0.8243957357681118, 0.6604020192434682, 0.5405584203043514, 0.8577471249931826, 0.5784033142828097]}, {\"categories\": [\"0\", \"1\", \"2\", \"3\", \"4\", \"5\", \"6\", \"7\", \"8\", \"9\", \"10\", \"11\", \"12\", \"13\", \"14\", \"15\", \"16\", \"17\", \"18\", \"19\", \"20\", \"25\", \"26\"], \"mode\": \"lines\", \"name\": \"recall_score_micro_max\", \"stepped\": true, \"type\": \"scatter\", \"data\": [0.7100838638955939, 0.7397373642415848, 0.7397373642415848, 0.7397373642415848, 0.7397373642415848, 0.7397373642415848, 0.8475826577127851, 0.8475826577127851, 0.8475826577127851, 0.8475826577127851, 0.8475826577127851, 0.8475826577127851, 0.8475826577127851, 0.8475826577127851, 0.8475826577127851, 0.8475826577127851, 0.8475826577127851, 0.8475826577127851, 0.8475826577127851, 0.8475826577127851, 0.8475826577127851, 0.8577471249931826, 0.8577471249931826]}], \"accuracy\": [{\"categories\": [\"0\", \"1\", \"2\", \"3\", \"4\", \"5\", \"6\", \"7\", \"8\", \"9\", \"10\", \"11\", \"12\", \"13\", \"14\", \"15\", \"16\", \"17\", \"18\", \"19\", \"20\", \"25\", \"26\"], \"mode\": \"markers\", \"name\": \"accuracy\", \"stepped\": false, \"type\": \"scatter\", \"data\": [0.7100838638955942, 0.7397373642415849, 0.543298189912269, 0.6497088096233564, 0.6623696410177033, 0.49411210061184624, 0.8475826577127851, 0.7986612078194386, 0.7581636794316259, 0.5447204747208109, 0.5708854048517932, 0.49765027243577814, 0.7581999012704618, 0.8455024769293535, 0.7475206570782232, 0.7948390773101751, 0.7551337887320724, 0.7487304939772969, 0.8243957357681119, 0.6604020192434681, 0.5405584203043512, 0.8577471249931827, 0.5784033142828094]}, {\"categories\": [\"0\", \"1\", \"2\", \"3\", \"4\", \"5\", \"6\", \"7\", \"8\", \"9\", \"10\", \"11\", \"12\", \"13\", \"14\", \"15\", \"16\", \"17\", \"18\", \"19\", \"20\", \"25\", \"26\"], \"mode\": \"lines\", \"name\": \"accuracy_max\", \"stepped\": true, \"type\": \"scatter\", \"data\": [0.7100838638955942, 0.7397373642415849, 0.7397373642415849, 0.7397373642415849, 0.7397373642415849, 0.7397373642415849, 0.8475826577127851, 0.8475826577127851, 0.8475826577127851, 0.8475826577127851, 0.8475826577127851, 0.8475826577127851, 0.8475826577127851, 0.8475826577127851, 0.8475826577127851, 0.8475826577127851, 0.8475826577127851, 0.8475826577127851, 0.8475826577127851, 0.8475826577127851, 0.8475826577127851, 0.8577471249931827, 0.8577471249931827]}], \"AUC_weighted\": [{\"categories\": [\"0\", \"1\", \"2\", \"3\", \"4\", \"5\", \"6\", \"7\", \"8\", \"9\", \"10\", \"11\", \"12\", \"13\", \"14\", \"15\", \"16\", \"17\", \"18\", \"19\", \"20\", \"25\", \"26\"], \"mode\": \"markers\", \"name\": \"AUC_weighted\", \"stepped\": false, \"type\": \"scatter\", \"data\": [0.873559389513994, 0.8559125501635227, 0.8291412606048487, 0.7892489219431692, 0.7801797972799945, 0.7870324500440926, 0.8950346369581729, 0.8724133439392112, 0.8499565420505095, 0.8355119344150141, 0.7547102239092505, 0.595116422912353, 0.8217032849941451, 0.8663664531911449, 0.8517339463201478, 0.8871455202696309, 0.8622330247352146, 0.8066685913752868, 0.87760430417145, 0.81753515201388, 0.771843514391965, 0.9059859927999835, 0.8843871481633742]}, {\"categories\": [\"0\", \"1\", \"2\", \"3\", \"4\", \"5\", \"6\", \"7\", \"8\", \"9\", \"10\", \"11\", \"12\", \"13\", \"14\", \"15\", \"16\", \"17\", \"18\", \"19\", \"20\", \"25\", \"26\"], \"mode\": \"lines\", \"name\": \"AUC_weighted_max\", \"stepped\": true, \"type\": \"scatter\", \"data\": [0.873559389513994, 0.873559389513994, 0.873559389513994, 0.873559389513994, 0.873559389513994, 0.873559389513994, 0.8950346369581729, 0.8950346369581729, 0.8950346369581729, 0.8950346369581729, 0.8950346369581729, 0.8950346369581729, 0.8950346369581729, 0.8950346369581729, 0.8950346369581729, 0.8950346369581729, 0.8950346369581729, 0.8950346369581729, 0.8950346369581729, 0.8950346369581729, 0.8950346369581729, 0.9059859927999835, 0.9059859927999835]}], \"average_precision_score_weighted\": [{\"categories\": [\"0\", \"1\", \"2\", \"3\", \"4\", \"5\", \"6\", \"7\", \"8\", \"9\", \"10\", \"11\", \"12\", \"13\", \"14\", \"15\", \"16\", \"17\", \"18\", \"19\", \"20\", \"25\", \"26\"], \"mode\": \"markers\", \"name\": \"average_precision_score_weighted\", \"stepped\": false, \"type\": \"scatter\", \"data\": [0.8730978582917501, 0.8720268277561586, 0.7975978030887383, 0.7837501569894371, 0.8081103441737151, 0.8116333494334889, 0.9039262275799226, 0.8712698359366966, 0.8451061517770064, 0.8549304811570249, 0.7665451788699723, 0.6009200679453385, 0.8068214781518162, 0.8627428634438971, 0.8690529934456036, 0.8874815793343444, 0.8573966252845326, 0.827205681576319, 0.8743260338671379, 0.8342198479205841, 0.8000429991815897, 0.9215682781851013, 0.8983428218570352]}, {\"categories\": [\"0\", \"1\", \"2\", \"3\", \"4\", \"5\", \"6\", \"7\", \"8\", \"9\", \"10\", \"11\", \"12\", \"13\", \"14\", \"15\", \"16\", \"17\", \"18\", \"19\", \"20\", \"25\", \"26\"], \"mode\": \"lines\", \"name\": \"average_precision_score_weighted_max\", \"stepped\": true, \"type\": \"scatter\", \"data\": [0.8730978582917501, 0.8730978582917501, 0.8730978582917501, 0.8730978582917501, 0.8730978582917501, 0.8730978582917501, 0.9039262275799226, 0.9039262275799226, 0.9039262275799226, 0.9039262275799226, 0.9039262275799226, 0.9039262275799226, 0.9039262275799226, 0.9039262275799226, 0.9039262275799226, 0.9039262275799226, 0.9039262275799226, 0.9039262275799226, 0.9039262275799226, 0.9039262275799226, 0.9039262275799226, 0.9215682781851013, 0.9215682781851013]}], \"recall_score_macro\": [{\"categories\": [\"0\", \"1\", \"2\", \"3\", \"4\", \"5\", \"6\", \"7\", \"8\", \"9\", \"10\", \"11\", \"12\", \"13\", \"14\", \"15\", \"16\", \"17\", \"18\", \"19\", \"20\", \"25\", \"26\"], \"mode\": \"markers\", \"name\": \"recall_score_macro\", \"stepped\": false, \"type\": \"scatter\", \"data\": [0.715230553335207, 0.7432318425990019, 0.5297325306105899, 0.6455848948569368, 0.655032171035401, 0.5055599544902446, 0.8421200337534268, 0.7933975540369826, 0.7579801995496952, 0.5541398640881802, 0.5654866864557618, 0.5088971609337345, 0.7453074772508342, 0.8378901179387065, 0.7408172773626015, 0.7900639375917882, 0.7468631399912907, 0.7340117456147914, 0.8183166360807984, 0.6513386775472562, 0.5422447098813047, 0.851760398636877, 0.575269127055168]}, {\"categories\": [\"0\", \"1\", \"2\", \"3\", \"4\", \"5\", \"6\", \"7\", \"8\", \"9\", \"10\", \"11\", \"12\", \"13\", \"14\", \"15\", \"16\", \"17\", \"18\", \"19\", \"20\", \"25\", \"26\"], \"mode\": \"lines\", \"name\": \"recall_score_macro_max\", \"stepped\": true, \"type\": \"scatter\", \"data\": [0.715230553335207, 0.7432318425990019, 0.7432318425990019, 0.7432318425990019, 0.7432318425990019, 0.7432318425990019, 0.8421200337534268, 0.8421200337534268, 0.8421200337534268, 0.8421200337534268, 0.8421200337534268, 0.8421200337534268, 0.8421200337534268, 0.8421200337534268, 0.8421200337534268, 0.8421200337534268, 0.8421200337534268, 0.8421200337534268, 0.8421200337534268, 0.8421200337534268, 0.8421200337534268, 0.851760398636877, 0.851760398636877]}], \"log_loss\": [{\"categories\": [\"0\", \"1\", \"2\", \"3\", \"4\", \"5\", \"6\", \"7\", \"8\", \"9\", \"10\", \"11\", \"12\", \"13\", \"14\", \"15\", \"16\", \"17\", \"18\", \"19\", \"20\", \"25\", \"26\"], \"mode\": \"markers\", \"name\": \"log_loss\", \"stepped\": false, \"type\": \"scatter\", \"data\": [2.1238664418526665, 1.1626788861948192, 5.690321378607837, 2.6243422715964257, 0.7557226495306543, 1.7082101217923593, 0.4309871114279285, 0.4770272563767633, 1.210701716311577, 0.9797860205411961, 2.1285367295200097, 13.47664375092887, 3.481094365093839, 1.1014016682239087, 0.49720969098304507, 0.5066681243329848, 1.1986706825346178, 0.6307353406212034, 2.4075240294427087, 0.7396929704575651, 1.3630342538283111, 0.38787115146773693, 3.664995389593288]}, {\"categories\": [\"0\", \"1\", \"2\", \"3\", \"4\", \"5\", \"6\", \"7\", \"8\", \"9\", \"10\", \"11\", \"12\", \"13\", \"14\", \"15\", \"16\", \"17\", \"18\", \"19\", \"20\", \"25\", \"26\"], \"mode\": \"lines\", \"name\": \"log_loss_min\", \"stepped\": true, \"type\": \"scatter\", \"data\": [2.1238664418526665, 1.1626788861948192, 1.1626788861948192, 1.1626788861948192, 0.7557226495306543, 0.7557226495306543, 0.4309871114279285, 0.4309871114279285, 0.4309871114279285, 0.4309871114279285, 0.4309871114279285, 0.4309871114279285, 0.4309871114279285, 0.4309871114279285, 0.4309871114279285, 0.4309871114279285, 0.4309871114279285, 0.4309871114279285, 0.4309871114279285, 0.4309871114279285, 0.4309871114279285, 0.38787115146773693, 0.38787115146773693]}], \"f1_score_weighted\": [{\"categories\": [\"0\", \"1\", \"2\", \"3\", \"4\", \"5\", \"6\", \"7\", \"8\", \"9\", \"10\", \"11\", \"12\", \"13\", \"14\", \"15\", \"16\", \"17\", \"18\", \"19\", \"20\", \"25\", \"26\"], \"mode\": \"markers\", \"name\": \"f1_score_weighted\", \"stepped\": false, \"type\": \"scatter\", \"data\": [0.6803757869088433, 0.7214535179796183, 0.41674459909425215, 0.6429837297342939, 0.6522388241565573, 0.3369351603032969, 0.8457068599987677, 0.7887052134436855, 0.756706227646483, 0.4371924834235094, 0.5404709080305393, 0.3444782855054996, 0.7442807626170639, 0.8435084883400172, 0.7467622067256671, 0.7850294707168445, 0.7427342770755101, 0.7447346931831339, 0.8188684502841289, 0.6530992086894218, 0.4818818557256204, 0.8555965000705056, 0.47058444427613644]}, {\"categories\": [\"0\", \"1\", \"2\", \"3\", \"4\", \"5\", \"6\", \"7\", \"8\", \"9\", \"10\", \"11\", \"12\", \"13\", \"14\", \"15\", \"16\", \"17\", \"18\", \"19\", \"20\", \"25\", \"26\"], \"mode\": \"lines\", \"name\": \"f1_score_weighted_max\", \"stepped\": true, \"type\": \"scatter\", \"data\": [0.6803757869088433, 0.7214535179796183, 0.7214535179796183, 0.7214535179796183, 0.7214535179796183, 0.7214535179796183, 0.8457068599987677, 0.8457068599987677, 0.8457068599987677, 0.8457068599987677, 0.8457068599987677, 0.8457068599987677, 0.8457068599987677, 0.8457068599987677, 0.8457068599987677, 0.8457068599987677, 0.8457068599987677, 0.8457068599987677, 0.8457068599987677, 0.8457068599987677, 0.8457068599987677, 0.8555965000705056, 0.8555965000705056]}], \"average_precision_score_micro\": [{\"categories\": [\"0\", \"1\", \"2\", \"3\", \"4\", \"5\", \"6\", \"7\", \"8\", \"9\", \"10\", \"11\", \"12\", \"13\", \"14\", \"15\", \"16\", \"17\", \"18\", \"19\", \"20\", \"25\", \"26\"], \"mode\": \"markers\", \"name\": \"average_precision_score_micro\", \"stepped\": false, \"type\": \"scatter\", \"data\": [0.7550384597659949, 0.7744518980843589, 0.6677688835890735, 0.726732250594423, 0.7281820701311504, 0.6860287256818687, 0.8820899006682258, 0.8285214992685187, 0.826379736832001, 0.7125741947295449, 0.696766470886752, 0.5498793793112934, 0.7753105756051184, 0.8516412464026537, 0.8532808050117507, 0.8223520749700216, 0.8340848129329897, 0.8318719139852925, 0.8229770812313687, 0.7892580820995772, 0.685500055714661, 0.9101718170410565, 0.751636657548718]}, {\"categories\": [\"0\", \"1\", \"2\", \"3\", \"4\", \"5\", \"6\", \"7\", \"8\", \"9\", \"10\", \"11\", \"12\", \"13\", \"14\", \"15\", \"16\", \"17\", \"18\", \"19\", \"20\", \"25\", \"26\"], \"mode\": \"lines\", \"name\": \"average_precision_score_micro_max\", \"stepped\": true, \"type\": \"scatter\", \"data\": [0.7550384597659949, 0.7744518980843589, 0.7744518980843589, 0.7744518980843589, 0.7744518980843589, 0.7744518980843589, 0.8820899006682258, 0.8820899006682258, 0.8820899006682258, 0.8820899006682258, 0.8820899006682258, 0.8820899006682258, 0.8820899006682258, 0.8820899006682258, 0.8820899006682258, 0.8820899006682258, 0.8820899006682258, 0.8820899006682258, 0.8820899006682258, 0.8820899006682258, 0.8820899006682258, 0.9101718170410565, 0.9101718170410565]}], \"matthews_correlation\": [{\"categories\": [\"0\", \"1\", \"2\", \"3\", \"4\", \"5\", \"6\", \"7\", \"8\", \"9\", \"10\", \"11\", \"12\", \"13\", \"14\", \"15\", \"16\", \"17\", \"18\", \"19\", \"20\", \"25\", \"26\"], \"mode\": \"markers\", \"name\": \"matthews_correlation\", \"stepped\": false, \"type\": \"scatter\", \"data\": [0.5198880936423803, 0.558804911352326, 0.12289205516698364, 0.3106272673815367, 0.3408518018487173, 0.05690556400154617, 0.6992119076165273, 0.6380468708293937, 0.5243368804929283, 0.23194294528186624, 0.18799876509164978, 0.0897012994780312, 0.5254008497839101, 0.6944027266407998, 0.49171307664037206, 0.6279734895080227, 0.5157823697477406, 0.48613116508638754, 0.6706537995818733, 0.325066832569668, 0.14034229286100372, 0.72344173213581, 0.21320826050493955]}, {\"categories\": [\"0\", \"1\", \"2\", \"3\", \"4\", \"5\", \"6\", \"7\", \"8\", \"9\", \"10\", \"11\", \"12\", \"13\", \"14\", \"15\", \"16\", \"17\", \"18\", \"19\", \"20\", \"25\", \"26\"], \"mode\": \"lines\", \"name\": \"matthews_correlation_max\", \"stepped\": true, \"type\": \"scatter\", \"data\": [0.5198880936423803, 0.558804911352326, 0.558804911352326, 0.558804911352326, 0.558804911352326, 0.558804911352326, 0.6992119076165273, 0.6992119076165273, 0.6992119076165273, 0.6992119076165273, 0.6992119076165273, 0.6992119076165273, 0.6992119076165273, 0.6992119076165273, 0.6992119076165273, 0.6992119076165273, 0.6992119076165273, 0.6992119076165273, 0.6992119076165273, 0.6992119076165273, 0.6992119076165273, 0.72344173213581, 0.72344173213581]}], \"balanced_accuracy\": [{\"categories\": [\"0\", \"1\", \"2\", \"3\", \"4\", \"5\", \"6\", \"7\", \"8\", \"9\", \"10\", \"11\", \"12\", \"13\", \"14\", \"15\", \"16\", \"17\", \"18\", \"19\", \"20\", \"25\", \"26\"], \"mode\": \"markers\", \"name\": \"balanced_accuracy\", \"stepped\": false, \"type\": \"scatter\", \"data\": [0.715230553335207, 0.7432318425990019, 0.5297325306105899, 0.6455848948569368, 0.655032171035401, 0.5055599544902446, 0.8421200337534268, 0.7933975540369826, 0.7579801995496952, 0.5541398640881802, 0.5654866864557618, 0.5088971609337345, 0.7453074772508342, 0.8378901179387065, 0.7408172773626015, 0.7900639375917882, 0.7468631399912907, 0.7340117456147914, 0.8183166360807984, 0.6513386775472562, 0.5422447098813047, 0.851760398636877, 0.575269127055168]}, {\"categories\": [\"0\", \"1\", \"2\", \"3\", \"4\", \"5\", \"6\", \"7\", \"8\", \"9\", \"10\", \"11\", \"12\", \"13\", \"14\", \"15\", \"16\", \"17\", \"18\", \"19\", \"20\", \"25\", \"26\"], \"mode\": \"lines\", \"name\": \"balanced_accuracy_max\", \"stepped\": true, \"type\": \"scatter\", \"data\": [0.715230553335207, 0.7432318425990019, 0.7432318425990019, 0.7432318425990019, 0.7432318425990019, 0.7432318425990019, 0.8421200337534268, 0.8421200337534268, 0.8421200337534268, 0.8421200337534268, 0.8421200337534268, 0.8421200337534268, 0.8421200337534268, 0.8421200337534268, 0.8421200337534268, 0.8421200337534268, 0.8421200337534268, 0.8421200337534268, 0.8421200337534268, 0.8421200337534268, 0.8421200337534268, 0.851760398636877, 0.851760398636877]}], \"AUC_micro\": [{\"categories\": [\"0\", \"1\", \"2\", \"3\", \"4\", \"5\", \"6\", \"7\", \"8\", \"9\", \"10\", \"11\", \"12\", \"13\", \"14\", \"15\", \"16\", \"17\", \"18\", \"19\", \"20\", \"25\", \"26\"], \"mode\": \"markers\", \"name\": \"AUC_micro\", \"stepped\": false, \"type\": \"scatter\", \"data\": [0.7586943378846579, 0.771017975190842, 0.6806972108515504, 0.7370775009713434, 0.7114216499207169, 0.6276450063532041, 0.882319047239962, 0.8485562239217278, 0.8387139978244704, 0.661644966232369, 0.6746298060138658, 0.5341709292097833, 0.8086737283921398, 0.8781293738549287, 0.8421590515110298, 0.8267506473645031, 0.8432543384448379, 0.8206295904212936, 0.8455215108999218, 0.7672047803436525, 0.6332576450595814, 0.9068200839697961, 0.7235684317394443]}, {\"categories\": [\"0\", \"1\", \"2\", \"3\", \"4\", \"5\", \"6\", \"7\", \"8\", \"9\", \"10\", \"11\", \"12\", \"13\", \"14\", \"15\", \"16\", \"17\", \"18\", \"19\", \"20\", \"25\", \"26\"], \"mode\": \"lines\", \"name\": \"AUC_micro_max\", \"stepped\": true, \"type\": \"scatter\", \"data\": [0.7586943378846579, 0.771017975190842, 0.771017975190842, 0.771017975190842, 0.771017975190842, 0.771017975190842, 0.882319047239962, 0.882319047239962, 0.882319047239962, 0.882319047239962, 0.882319047239962, 0.882319047239962, 0.882319047239962, 0.882319047239962, 0.882319047239962, 0.882319047239962, 0.882319047239962, 0.882319047239962, 0.882319047239962, 0.882319047239962, 0.882319047239962, 0.9068200839697961, 0.9068200839697961]}], \"weighted_accuracy\": [{\"categories\": [\"0\", \"1\", \"2\", \"3\", \"4\", \"5\", \"6\", \"7\", \"8\", \"9\", \"10\", \"11\", \"12\", \"13\", \"14\", \"15\", \"16\", \"17\", \"18\", \"19\", \"20\", \"25\", \"26\"], \"mode\": \"markers\", \"name\": \"weighted_accuracy\", \"stepped\": false, \"type\": \"scatter\", \"data\": [0.9945302525179213, 0.9878591594581593, 0.9967386234437711, 0.5020136490017865, 0.4838757284778148, 0.01117206904658778, 0.9463383504280425, 0.9856362934408737, 0.733913285109513, 0.10832724710950144, 0.3347070520283175, 0.017846083540930563, 0.849584183949359, 0.9378798426708558, 0.7295025654006894, 0.9789692773908354, 0.8783312740057906, 0.678861555584005, 0.9728008346488158, 0.5135228964678218, 0.21415687877649234, 0.965618216869801, 0.1505873489716659]}, {\"categories\": [\"0\", \"1\", \"2\", \"3\", \"4\", \"5\", \"6\", \"7\", \"8\", \"9\", \"10\", \"11\", \"12\", \"13\", \"14\", \"15\", \"16\", \"17\", \"18\", \"19\", \"20\", \"25\", \"26\"], \"mode\": \"lines\", \"name\": \"weighted_accuracy_max\", \"stepped\": true, \"type\": \"scatter\", \"data\": [0.9945302525179213, 0.9945302525179213, 0.9967386234437711, 0.9967386234437711, 0.9967386234437711, 0.9967386234437711, 0.9967386234437711, 0.9967386234437711, 0.9967386234437711, 0.9967386234437711, 0.9967386234437711, 0.9967386234437711, 0.9967386234437711, 0.9967386234437711, 0.9967386234437711, 0.9967386234437711, 0.9967386234437711, 0.9967386234437711, 0.9967386234437711, 0.9967386234437711, 0.9967386234437711, 0.9967386234437711, 0.9967386234437711]}]}, \"metricName\": null, \"primaryMetricName\": \"norm_macro_recall\", \"showLegend\": false}, \"run_metrics\": [{\"name\": \"experiment_status\", \"run_id\": \"AutoML_87c7adcd-0386-4519-a580-943d7e9cb165\", \"categories\": [0, 1, 2, 3, 4, 5, 6, 7, 8, 9, 10, 11, 12], \"series\": [{\"data\": [\"DatasetEvaluation\", \"FeaturesGeneration\", \"DatasetFeaturization\", \"DatasetFeaturizationCompleted\", \"DatasetBalancing\", \"DatasetCrossValidationSplit\", \"ModelSelection\", \"BestRunExplainModel\", \"ModelExplanationDataSetSetup\", \"PickSurrogateModel\", \"EngineeredFeatureExplanations\", \"EngineeredFeatureExplanations\", \"RawFeaturesExplanations\"]}]}, {\"name\": \"experiment_status_description\", \"run_id\": \"AutoML_87c7adcd-0386-4519-a580-943d7e9cb165\", \"categories\": [0, 1, 2, 3, 4, 5, 6, 7, 8, 9, 10, 11, 12], \"series\": [{\"data\": [\"Gathering dataset statistics.\", \"Generating features for the dataset.\", \"Beginning to fit featurizers and featurize the dataset.\", \"Completed fit featurizers and featurizing the dataset.\", \"Performing class balancing sweeping\", \"Generating individually featurized CV splits.\", \"Beginning model selection.\", \"Best run model explanations started\", \"Model explanations data setup completed\", \"Choosing LightGBM as the surrogate model for explanations\", \"Computation of engineered features started\", \"Computation of engineered features completed\", \"Computation of raw features started\"]}]}, {\"name\": \"precision_score_micro\", \"run_id\": \"AutoML_87c7adcd-0386-4519-a580-943d7e9cb165\", \"categories\": [0], \"series\": [{\"data\": [0.8577471249931826]}]}, {\"name\": \"recall_score_macro\", \"run_id\": \"AutoML_87c7adcd-0386-4519-a580-943d7e9cb165\", \"categories\": [0], \"series\": [{\"data\": [0.851760398636877]}]}, {\"name\": \"recall_score_weighted\", \"run_id\": \"AutoML_87c7adcd-0386-4519-a580-943d7e9cb165\", \"categories\": [0], \"series\": [{\"data\": [0.8577471249931826]}]}, {\"name\": \"f1_score_micro\", \"run_id\": \"AutoML_87c7adcd-0386-4519-a580-943d7e9cb165\", \"categories\": [0], \"series\": [{\"data\": [0.8577471249931826]}]}, {\"name\": \"average_precision_score_weighted\", \"run_id\": \"AutoML_87c7adcd-0386-4519-a580-943d7e9cb165\", \"categories\": [0], \"series\": [{\"data\": [0.9215682781851013]}]}, {\"name\": \"matthews_correlation\", \"run_id\": \"AutoML_87c7adcd-0386-4519-a580-943d7e9cb165\", \"categories\": [0], \"series\": [{\"data\": [0.72344173213581]}]}, {\"name\": \"AUC_macro\", \"run_id\": \"AutoML_87c7adcd-0386-4519-a580-943d7e9cb165\", \"categories\": [0], \"series\": [{\"data\": [0.9059859927999835]}]}, {\"name\": \"balanced_accuracy\", \"run_id\": \"AutoML_87c7adcd-0386-4519-a580-943d7e9cb165\", \"categories\": [0], \"series\": [{\"data\": [0.851760398636877]}]}, {\"name\": \"precision_score_macro\", \"run_id\": \"AutoML_87c7adcd-0386-4519-a580-943d7e9cb165\", \"categories\": [0], \"series\": [{\"data\": [0.8724414364138761]}]}, {\"name\": \"f1_score_macro\", \"run_id\": \"AutoML_87c7adcd-0386-4519-a580-943d7e9cb165\", \"categories\": [0], \"series\": [{\"data\": [0.8510311519926933]}]}, {\"name\": \"average_precision_score_micro\", \"run_id\": \"AutoML_87c7adcd-0386-4519-a580-943d7e9cb165\", \"categories\": [0], \"series\": [{\"data\": [0.9101718170410565]}]}, {\"name\": \"weighted_accuracy\", \"run_id\": \"AutoML_87c7adcd-0386-4519-a580-943d7e9cb165\", \"categories\": [0], \"series\": [{\"data\": [0.965618216869801]}]}, {\"name\": \"f1_score_weighted\", \"run_id\": \"AutoML_87c7adcd-0386-4519-a580-943d7e9cb165\", \"categories\": [0], \"series\": [{\"data\": [0.8555965000705056]}]}, {\"name\": \"precision_score_weighted\", \"run_id\": \"AutoML_87c7adcd-0386-4519-a580-943d7e9cb165\", \"categories\": [0], \"series\": [{\"data\": [0.8744579020104254]}]}, {\"name\": \"accuracy\", \"run_id\": \"AutoML_87c7adcd-0386-4519-a580-943d7e9cb165\", \"categories\": [0], \"series\": [{\"data\": [0.8577471249931827]}]}, {\"name\": \"log_loss\", \"run_id\": \"AutoML_87c7adcd-0386-4519-a580-943d7e9cb165\", \"categories\": [0], \"series\": [{\"data\": [0.38787115146773693]}]}, {\"name\": \"average_precision_score_macro\", \"run_id\": \"AutoML_87c7adcd-0386-4519-a580-943d7e9cb165\", \"categories\": [0], \"series\": [{\"data\": [0.9193089268937648]}]}, {\"name\": \"recall_score_micro\", \"run_id\": \"AutoML_87c7adcd-0386-4519-a580-943d7e9cb165\", \"categories\": [0], \"series\": [{\"data\": [0.8577471249931826]}]}, {\"name\": \"norm_macro_recall\", \"run_id\": \"AutoML_87c7adcd-0386-4519-a580-943d7e9cb165\", \"categories\": [0], \"series\": [{\"data\": [0.7035207972737542]}]}, {\"name\": \"AUC_micro\", \"run_id\": \"AutoML_87c7adcd-0386-4519-a580-943d7e9cb165\", \"categories\": [0], \"series\": [{\"data\": [0.9068200839697961]}]}, {\"name\": \"AUC_weighted\", \"run_id\": \"AutoML_87c7adcd-0386-4519-a580-943d7e9cb165\", \"categories\": [0], \"series\": [{\"data\": [0.9059859927999835]}]}], \"run_logs\": \"\\nRun is completed.\", \"graph\": {}, \"widget_settings\": {\"childWidgetDisplay\": \"popup\", \"send_telemetry\": false, \"log_level\": \"INFO\", \"sdk_version\": \"1.33.0\"}, \"loading\": false}"
     },
     "metadata": {},
     "output_type": "display_data"
    },
    {
     "data": {
      "text/plain": [
       "{'runId': 'AutoML_87c7adcd-0386-4519-a580-943d7e9cb165',\n",
       " 'target': 'Demo-Cluster',\n",
       " 'status': 'Completed',\n",
       " 'startTimeUtc': '2021-12-11T04:41:00.203159Z',\n",
       " 'endTimeUtc': '2021-12-11T05:34:27.081987Z',\n",
       " 'warnings': [{'source': 'JasmineService',\n",
       "   'message': 'Experiment timeout reached, hence experiment stopped. Current experiment timeout: 0 hour(s) 40 minute(s)'}],\n",
       " 'properties': {'num_iterations': '1000',\n",
       "  'training_type': 'TrainFull',\n",
       "  'acquisition_function': 'EI',\n",
       "  'primary_metric': 'norm_macro_recall',\n",
       "  'train_split': '0',\n",
       "  'acquisition_parameter': '0',\n",
       "  'num_cross_validation': None,\n",
       "  'target': 'Demo-Cluster',\n",
       "  'AMLSettingsJsonString': '{\"path\":null,\"name\":\"auto-ml-bankrupt2\",\"subscription_id\":\"73f88e6b-3a35-4612-b550-555157e7059f\",\"resource_group\":\"ops_analytics-rg-gb-dev\",\"workspace_name\":\"ops_analytics-workspace\",\"region\":\"westeurope\",\"compute_target\":\"Demo-Cluster\",\"spark_service\":null,\"azure_service\":\"remote\",\"many_models\":false,\"pipeline_fetch_max_batch_size\":1,\"enable_batch_run\":false,\"enable_run_restructure\":false,\"start_auxiliary_runs_before_parent_complete\":false,\"enable_code_generation\":false,\"iterations\":1000,\"primary_metric\":\"norm_macro_recall\",\"task_type\":\"classification\",\"data_script\":null,\"test_size\":0.0,\"validation_size\":0.0,\"n_cross_validations\":null,\"y_min\":null,\"y_max\":null,\"num_classes\":null,\"featurization\":\"auto\",\"_ignore_package_version_incompatibilities\":false,\"is_timeseries\":false,\"max_cores_per_iteration\":1,\"max_concurrent_iterations\":5,\"iteration_timeout_minutes\":null,\"mem_in_mb\":null,\"enforce_time_on_windows\":false,\"experiment_timeout_minutes\":40,\"experiment_exit_score\":null,\"whitelist_models\":null,\"blacklist_algos\":[\"TensorFlowLinearClassifier\",\"TensorFlowDNN\"],\"supported_models\":[\"TensorFlowDNN\",\"ExtremeRandomTrees\",\"MultinomialNaiveBayes\",\"XGBoostClassifier\",\"BernoulliNaiveBayes\",\"KNN\",\"GradientBoosting\",\"TensorFlowLinearClassifier\",\"SVM\",\"LightGBM\",\"DecisionTree\",\"LinearSVM\",\"RandomForest\",\"AveragedPerceptronClassifier\",\"SGD\",\"LogisticRegression\"],\"private_models\":[],\"auto_blacklist\":true,\"blacklist_samples_reached\":false,\"exclude_nan_labels\":true,\"verbosity\":20,\"_debug_log\":\"azureml_automl.log\",\"show_warnings\":false,\"model_explainability\":true,\"service_url\":null,\"sdk_url\":null,\"sdk_packages\":null,\"enable_onnx_compatible_models\":false,\"enable_split_onnx_featurizer_estimator_models\":false,\"vm_type\":\"STANDARD_D2S_V3\",\"telemetry_verbosity\":20,\"send_telemetry\":true,\"enable_dnn\":false,\"scenario\":\"SDK-1.13.0\",\"environment_label\":null,\"save_mlflow\":false,\"force_text_dnn\":false,\"enable_feature_sweeping\":true,\"enable_early_stopping\":true,\"early_stopping_n_iters\":10,\"metrics\":null,\"enable_metric_confidence\":false,\"enable_ensembling\":true,\"enable_stack_ensembling\":true,\"ensemble_iterations\":15,\"enable_tf\":false,\"enable_subsampling\":null,\"subsample_seed\":null,\"enable_nimbusml\":false,\"enable_streaming\":false,\"force_streaming\":false,\"track_child_runs\":true,\"allowed_private_models\":[],\"label_column_name\":\"Y\",\"weight_column_name\":null,\"cv_split_column_names\":null,\"enable_local_managed\":false,\"_local_managed_run_id\":null,\"cost_mode\":1,\"lag_length\":0,\"metric_operation\":\"maximize\",\"preprocess\":true}',\n",
       "  'DataPrepJsonString': '{\\\\\"training_data\\\\\": {\\\\\"datasetId\\\\\": \\\\\"dfc2aa3e-986f-4345-87af-28294654820f\\\\\"}, \\\\\"datasets\\\\\": 0}',\n",
       "  'EnableSubsampling': None,\n",
       "  'runTemplate': 'AutoML',\n",
       "  'azureml.runsource': 'automl',\n",
       "  'display_task_type': 'classification',\n",
       "  'dependencies_versions': '{\"azureml-widgets\": \"1.33.0\", \"azureml-train\": \"1.33.0\", \"azureml-train-restclients-hyperdrive\": \"1.33.0\", \"azureml-train-core\": \"1.33.0\", \"azureml-train-automl\": \"1.33.0\", \"azureml-train-automl-runtime\": \"1.33.0\", \"azureml-train-automl-client\": \"1.33.0\", \"azureml-tensorboard\": \"1.33.0\", \"azureml-telemetry\": \"1.33.0\", \"azureml-sdk\": \"1.33.0\", \"azureml-samples\": \"0+unknown\", \"azureml-responsibleai\": \"1.33.0\", \"azureml-pipeline\": \"1.33.0\", \"azureml-pipeline-steps\": \"1.33.0\", \"azureml-pipeline-core\": \"1.33.0\", \"azureml-opendatasets\": \"1.33.0\", \"azureml-mlflow\": \"1.33.0\", \"azureml-interpret\": \"1.33.0\", \"azureml-explain-model\": \"1.33.0\", \"azureml-defaults\": \"1.33.0\", \"azureml-dataset-runtime\": \"1.33.0\", \"azureml-dataprep\": \"2.20.1\", \"azureml-dataprep-rslex\": \"1.18.0\", \"azureml-dataprep-native\": \"38.0.0\", \"azureml-datadrift\": \"1.33.0\", \"azureml-core\": \"1.33.0\", \"azureml-contrib-services\": \"1.33.0\", \"azureml-contrib-server\": \"1.33.0\", \"azureml-contrib-reinforcementlearning\": \"1.33.0\", \"azureml-contrib-pipeline-steps\": \"1.33.0\", \"azureml-contrib-notebook\": \"1.33.0\", \"azureml-contrib-fairness\": \"1.33.0\", \"azureml-contrib-dataset\": \"1.33.0\", \"azureml-cli-common\": \"1.33.0\", \"azureml-automl-runtime\": \"1.33.0\", \"azureml-automl-dnn-nlp\": \"1.33.0\", \"azureml-automl-core\": \"1.33.0\", \"azureml-accel-models\": \"1.33.0\"}',\n",
       "  '_aml_system_scenario_identification': 'Remote.Parent',\n",
       "  'ClientType': 'SDK',\n",
       "  'environment_cpu_name': 'AzureML-AutoML',\n",
       "  'environment_cpu_label': 'prod',\n",
       "  'environment_gpu_name': 'AzureML-AutoML-GPU',\n",
       "  'environment_gpu_label': 'prod',\n",
       "  'root_attribution': 'automl',\n",
       "  'attribution': 'AutoML',\n",
       "  'Orchestrator': 'AutoML',\n",
       "  'CancelUri': 'https://westeurope.api.azureml.ms/jasmine/v1.0/subscriptions/73f88e6b-3a35-4612-b550-555157e7059f/resourceGroups/ops_analytics-rg-gb-dev/providers/Microsoft.MachineLearningServices/workspaces/ops_analytics-workspace/experimentids/ea1096fb-0eca-4d3d-af79-8cfb85134051/cancel/AutoML_87c7adcd-0386-4519-a580-943d7e9cb165',\n",
       "  'ClientSdkVersion': '1.36.1',\n",
       "  'snapshotId': '00000000-0000-0000-0000-000000000000',\n",
       "  'SetupRunId': 'AutoML_87c7adcd-0386-4519-a580-943d7e9cb165_setup',\n",
       "  'SetupRunContainerId': 'dcid.AutoML_87c7adcd-0386-4519-a580-943d7e9cb165_setup',\n",
       "  'FeaturizationRunJsonPath': 'featurizer_container.json',\n",
       "  'FeaturizationRunId': 'AutoML_87c7adcd-0386-4519-a580-943d7e9cb165_featurize',\n",
       "  'ProblemInfoJsonString': '{\"dataset_num_categorical\": 0, \"is_sparse\": true, \"subsampling\": false, \"has_extra_col\": true, \"dataset_classes\": 2, \"dataset_features\": 56, \"dataset_samples\": 4072, \"single_frequency_class_detected\": false}',\n",
       "  'ModelExplainRunId': 'AutoML_87c7adcd-0386-4519-a580-943d7e9cb165_ModelExplain',\n",
       "  'azureml.git.branch': 'master',\n",
       "  'mlflow.source.git.branch': 'master',\n",
       "  'azureml.git.commit': 'a3c5b47ae395dd1677bbfc1ce6d42b58ab484eb0',\n",
       "  'mlflow.source.git.commit': 'a3c5b47ae395dd1677bbfc1ce6d42b58ab484eb0',\n",
       "  'azureml.git.dirty': 'True'},\n",
       " 'inputDatasets': [{'dataset': {'id': 'dfc2aa3e-986f-4345-87af-28294654820f'}, 'consumptionDetails': {'type': 'RunInput', 'inputName': 'training_data', 'mechanism': 'Direct'}}],\n",
       " 'outputDatasets': [],\n",
       " 'logFiles': {},\n",
       " 'submittedBy': 'Narendhra Kumar Murugan'}"
      ]
     },
     "execution_count": 17,
     "metadata": {},
     "output_type": "execute_result"
    }
   ],
   "source": [
    "# Submit your automl run\n",
    "from azureml.widgets import RunDetails\n",
    "RunDetails(automl_run).show()\n",
    "\n",
    "#Wait for completion\n",
    "automl_run.wait_for_completion()"
   ]
  },
  {
   "cell_type": "code",
   "execution_count": null,
   "metadata": {
    "gather": {
     "logged": 1598431107951
    },
    "jupyter": {
     "outputs_hidden": false,
     "source_hidden": false
    },
    "nteract": {
     "transient": {
      "deleting": false
     }
    }
   },
   "outputs": [],
   "source": []
  },
  {
   "cell_type": "markdown",
   "metadata": {},
   "source": [
    "## Run Details\n",
    "\n",
    "OPTIONAL: Write about the different models trained and their performance. Why do you think some models did better than others?\n",
    "\n",
    "TODO: In the cell below, use the `RunDetails` widget to show the different experiments."
   ]
  },
  {
   "cell_type": "markdown",
   "metadata": {},
   "source": [
    "## Best Model\n",
    "\n",
    "TODO: In the cell below, get the best model from the automl experiments and display all the properties of the model.\n",
    "\n"
   ]
  },
  {
   "cell_type": "code",
   "execution_count": 18,
   "metadata": {
    "gather": {
     "logged": 1598431425670
    },
    "jupyter": {
     "outputs_hidden": false,
     "source_hidden": false
    },
    "nteract": {
     "transient": {
      "deleting": false
     }
    }
   },
   "outputs": [
    {
     "name": "stderr",
     "output_type": "stream",
     "text": [
      "WARNING:root:The version of the SDK does not match the version the model was trained on.\n",
      "WARNING:root:The consistency in the result may not be guaranteed.\n",
      "WARNING:root:Package:azureml-automl-core, training version:1.36.1, current version:1.33.0\n",
      "Package:azureml-automl-runtime, training version:1.36.1, current version:1.33.0\n",
      "Package:azureml-core, training version:1.36.0.post2, current version:1.33.0\n",
      "Package:azureml-dataprep, training version:2.24.4, current version:2.20.1\n",
      "Package:azureml-dataprep-rslex, training version:2.0.3, current version:1.18.0\n",
      "Package:azureml-dataset-runtime, training version:1.36.0, current version:1.33.0\n",
      "Package:azureml-defaults, training version:1.36.0, current version:1.33.0\n",
      "Package:azureml-interpret, training version:1.36.0, current version:1.33.0\n",
      "Package:azureml-mlflow, training version:1.36.0, current version:1.33.0\n",
      "Package:azureml-pipeline-core, training version:1.36.0, current version:1.33.0\n",
      "Package:azureml-responsibleai, training version:1.36.0, current version:1.33.0\n",
      "Package:azureml-telemetry, training version:1.36.0, current version:1.33.0\n",
      "Package:azureml-train-automl-client, training version:1.36.0, current version:1.33.0\n",
      "Package:azureml-train-automl-runtime, training version:1.36.1, current version:1.33.0\n",
      "Package:azureml-train-core, training version:1.36.0, current version:1.33.0\n",
      "Package:azureml-train-restclients-hyperdrive, training version:1.36.0, current version:1.33.0\n",
      "WARNING:root:Below packages were used for model training but missing in current environment:\n",
      "WARNING:root:Package:azureml-inference-server-http, training version:0.4.2\n",
      "WARNING:root:Please ensure the version of your local conda dependencies match the version on which your model was trained in order to properly retrieve your model.\n"
     ]
    },
    {
     "name": "stdout",
     "output_type": "stream",
     "text": [
      "Run(Experiment: auto-ml-bankrupt2,\n",
      "Id: AutoML_87c7adcd-0386-4519-a580-943d7e9cb165_25,\n",
      "Type: azureml.scriptrun,\n",
      "Status: Completed)\n",
      "Best Model: AutoML87c7adcd025\n"
     ]
    },
    {
     "data": {
      "text/plain": [
       "{'runTemplate': 'automl_child',\n",
       " 'pipeline_id': '__AutoML_Ensemble__',\n",
       " 'pipeline_spec': '{\"pipeline_id\":\"__AutoML_Ensemble__\",\"objects\":[{\"module\":\"azureml.train.automl.ensemble\",\"class_name\":\"Ensemble\",\"spec_class\":\"sklearn\",\"param_args\":[],\"param_kwargs\":{\"automl_settings\":\"{\\'task_type\\':\\'classification\\',\\'primary_metric\\':\\'norm_macro_recall\\',\\'verbosity\\':20,\\'ensemble_iterations\\':15,\\'is_timeseries\\':False,\\'name\\':\\'auto-ml-bankrupt2\\',\\'compute_target\\':\\'Demo-Cluster\\',\\'subscription_id\\':\\'73f88e6b-3a35-4612-b550-555157e7059f\\',\\'region\\':\\'westeurope\\',\\'spark_service\\':None}\",\"ensemble_run_id\":\"AutoML_87c7adcd-0386-4519-a580-943d7e9cb165_25\",\"experiment_name\":\"auto-ml-bankrupt2\",\"workspace_name\":\"ops_analytics-workspace\",\"subscription_id\":\"73f88e6b-3a35-4612-b550-555157e7059f\",\"resource_group_name\":\"ops_analytics-rg-gb-dev\"}}]}',\n",
       " 'training_percent': '100',\n",
       " 'predicted_cost': None,\n",
       " 'iteration': '25',\n",
       " '_aml_system_scenario_identification': 'Remote.Child',\n",
       " '_azureml.ComputeTargetType': 'amlcompute',\n",
       " 'ContentSnapshotId': 'b7c35ffe-8bf1-48ad-92c3-6dcd2953400c',\n",
       " 'ProcessInfoFile': 'azureml-logs/process_info.json',\n",
       " 'ProcessStatusFile': 'azureml-logs/process_status.json',\n",
       " 'run_preprocessor': '',\n",
       " 'run_algorithm': 'VotingEnsemble',\n",
       " 'ensembled_iterations': '[6, 13, 16, 12]',\n",
       " 'ensembled_algorithms': \"['ExtremeRandomTrees', 'LogisticRegression', 'SGD', 'RandomForest']\",\n",
       " 'ensembled_run_ids': \"['AutoML_87c7adcd-0386-4519-a580-943d7e9cb165_6', 'AutoML_87c7adcd-0386-4519-a580-943d7e9cb165_13', 'AutoML_87c7adcd-0386-4519-a580-943d7e9cb165_16', 'AutoML_87c7adcd-0386-4519-a580-943d7e9cb165_12']\",\n",
       " 'ensemble_weights': '[0.36363636363636365, 0.45454545454545453, 0.09090909090909091, 0.09090909090909091]',\n",
       " 'best_individual_pipeline_score': '0.6842400675068534',\n",
       " 'best_individual_iteration': '6',\n",
       " 'model_output_path': 'outputs/model.pkl',\n",
       " 'conda_env_data_location': 'aml://artifact/ExperimentRun/dcid.AutoML_87c7adcd-0386-4519-a580-943d7e9cb165_25/outputs/conda_env_v_1_0_0.yml',\n",
       " 'model_data_location': 'aml://artifact/ExperimentRun/dcid.AutoML_87c7adcd-0386-4519-a580-943d7e9cb165_25/outputs/model.pkl',\n",
       " 'model_size_on_disk': '162085',\n",
       " 'scoring_data_location': 'aml://artifact/ExperimentRun/dcid.AutoML_87c7adcd-0386-4519-a580-943d7e9cb165_25/outputs/scoring_file_v_1_0_0.py',\n",
       " 'scoring_data_location_v2': 'aml://artifact/ExperimentRun/dcid.AutoML_87c7adcd-0386-4519-a580-943d7e9cb165_25/outputs/scoring_file_v_2_0_0.py',\n",
       " 'model_exp_support': 'True',\n",
       " 'pipeline_graph_version': '1.0.0',\n",
       " 'model_name': 'AutoML87c7adcd025',\n",
       " 'score': '0.7035207972737542',\n",
       " 'score_table': 'NaN',\n",
       " 'run_properties': \"\\n    estimators=[('6', Pipeline(\\n        memory=None,\\n        steps=[('sparsenormalizer', Normalizer(\\n            copy=True,\\n            norm='l2'\\n        \",\n",
       " 'pipeline_script': '{\"pipeline_id\":\"__AutoML_Ensemble__\",\"objects\":[{\"module\":\"azureml.train.automl.ensemble\",\"class_name\":\"Ensemble\",\"spec_class\":\"sklearn\",\"param_args\":[],\"param_kwargs\":{\"automl_settings\":\"{\\'task_type\\':\\'classification\\',\\'primary_metric\\':\\'norm_macro_recall\\',\\'verbosity\\':20,\\'ensemble_iterations\\':15,\\'is_timeseries\\':False,\\'name\\':\\'auto-ml-bankrupt2\\',\\'compute_target\\':\\'Demo-Cluster\\',\\'subscription_id\\':\\'73f88e6b-3a35-4612-b550-555157e7059f\\',\\'region\\':\\'westeurope\\',\\'spark_service\\':None}\",\"ensemble_run_id\":\"AutoML_87c7adcd-0386-4519-a580-943d7e9cb165_25\",\"experiment_name\":\"auto-ml-bankrupt2\",\"workspace_name\":\"ops_analytics-workspace\",\"subscription_id\":\"73f88e6b-3a35-4612-b550-555157e7059f\",\"resource_group_name\":\"ops_analytics-rg-gb-dev\"}}]}',\n",
       " 'training_type': 'MeanCrossValidation',\n",
       " 'fit_time': '12',\n",
       " 'goal': 'norm_macro_recall_max',\n",
       " 'primary_metric': 'norm_macro_recall',\n",
       " 'errors': '{}',\n",
       " 'onnx_model_resource': '{}',\n",
       " 'dependencies_versions': '{\"azureml-train-restclients-hyperdrive\": \"1.36.0\", \"azureml-train-core\": \"1.36.0\", \"azureml-train-automl-runtime\": \"1.36.1\", \"azureml-train-automl-client\": \"1.36.0\", \"azureml-telemetry\": \"1.36.0\", \"azureml-responsibleai\": \"1.36.0\", \"azureml-pipeline-core\": \"1.36.0\", \"azureml-mlflow\": \"1.36.0\", \"azureml-interpret\": \"1.36.0\", \"azureml-inference-server-http\": \"0.4.2\", \"azureml-defaults\": \"1.36.0\", \"azureml-dataset-runtime\": \"1.36.0\", \"azureml-dataprep\": \"2.24.4\", \"azureml-dataprep-rslex\": \"2.0.3\", \"azureml-dataprep-native\": \"38.0.0\", \"azureml-core\": \"1.36.0.post2\", \"azureml-automl-runtime\": \"1.36.1\", \"azureml-automl-core\": \"1.36.1\"}',\n",
       " 'num_cores': '1',\n",
       " 'num_logical_cores': '2',\n",
       " 'peak_memory_usage': '807076',\n",
       " 'vm_configuration': 'x86_64',\n",
       " 'core_hours': '0.0028295791666666666',\n",
       " 'feature_skus': 'automatedml_sdk_guardrails'}"
      ]
     },
     "execution_count": 18,
     "metadata": {},
     "output_type": "execute_result"
    }
   ],
   "source": [
    "# Retrieve the best Automl Model run \n",
    "best_model, fitted_model = automl_run.get_output()\n",
    "print(best_model)\n",
    "\n",
    "# Get the Best Model and display properties \n",
    "model_name = best_model.properties['model_name']\n",
    "print(\"Best Model:\",model_name)\n",
    "\n",
    "best_model.get_properties()"
   ]
  },
  {
   "cell_type": "code",
   "execution_count": 19,
   "metadata": {
    "gather": {
     "logged": 1598431426111
    },
    "jupyter": {
     "outputs_hidden": false,
     "source_hidden": false
    },
    "nteract": {
     "transient": {
      "deleting": false
     }
    },
    "scrolled": true
   },
   "outputs": [],
   "source": [
    "# Save the best model\n",
    "os.makedirs('outputs', exist_ok=True)\n",
    "best_model.download_file('outputs/model.pkl', 'outputs/automlmodel.pkl')\n",
    "best_model.download_file('outputs/scoring_file_v_1_0_0.py', 'outputs/score_aml.py')\n",
    "best_model.download_file('automl_driver.py', 'outputs/automl_driver.py')"
   ]
  },
  {
   "cell_type": "code",
   "execution_count": 20,
   "metadata": {},
   "outputs": [
    {
     "name": "stdout",
     "output_type": "stream",
     "text": [
      "Registering model automl_Bankrupt_3\n",
      "automl_Bankrupt_3\n"
     ]
    }
   ],
   "source": [
    "from azureml.core.model import Model\n",
    "\n",
    "model = Model.register(workspace = ws,\n",
    "                        model_path =\"outputs/automlmodel.pkl\",\n",
    "                        model_name = \"automl_Bankrupt_3\")\n",
    "\n",
    "print(model.name)"
   ]
  },
  {
   "cell_type": "markdown",
   "metadata": {},
   "source": [
    "## Model Deployment\n",
    "\n",
    "Remember you have to deploy only one of the two models you trained but you still need to register both the models. Perform the steps in the rest of this notebook only if you wish to deploy this model.\n",
    "\n",
    "TODO: In the cell below, register the model, create an inference config and deploy the model as a web service."
   ]
  },
  {
   "cell_type": "code",
   "execution_count": 21,
   "metadata": {
    "gather": {
     "logged": 1598431435189
    },
    "jupyter": {
     "outputs_hidden": false,
     "source_hidden": false
    },
    "nteract": {
     "transient": {
      "deleting": false
     }
    }
   },
   "outputs": [],
   "source": [
    "from azureml.core.environment import Environment\n",
    "from azureml.core.model import InferenceConfig\n",
    "from azureml.core.webservice import AciWebservice\n",
    "from azureml.core.model import Model"
   ]
  },
  {
   "cell_type": "markdown",
   "metadata": {
    "collapsed": true,
    "gather": {
     "logged": 1598431657736
    },
    "jupyter": {
     "outputs_hidden": false,
     "source_hidden": false
    },
    "nteract": {
     "transient": {
      "deleting": false
     }
    }
   },
   "source": [
    "TODO: In the cell below, send a request to the web service you deployed to test it."
   ]
  },
  {
   "cell_type": "code",
   "execution_count": 22,
   "metadata": {
    "gather": {
     "logged": 1598432707604
    },
    "jupyter": {
     "outputs_hidden": false,
     "source_hidden": false
    },
    "nteract": {
     "transient": {
      "deleting": false
     }
    }
   },
   "outputs": [
    {
     "name": "stdout",
     "output_type": "stream",
     "text": [
      "Overwriting autoscore.py\n"
     ]
    }
   ],
   "source": [
    "%%writefile autoscore.py\n",
    "import json\n",
    "import numpy as np\n",
    "import os\n",
    "import pickle\n",
    "import joblib\n",
    "from azureml.core.model import Model\n",
    "import pandas as pd\n",
    "\n",
    "def init():\n",
    "    global model\n",
    "    model_path = os.path.join(os.getenv('AZUREML_MODEL_DIR'), 'automlmodel.pkl')\n",
    "    model = joblib.load(model_path)\n",
    "\n",
    "    \n",
    "def run(raw_data):\n",
    "    try:\n",
    "        data = json.loads(raw_data)['data']\n",
    "        data = pd.DataFrame.from_dict(data)\n",
    "        # make prediction\n",
    "        mypredict = model.predict(data)\n",
    "        return mypredict.tolist()\n",
    "    except Exception as ex:\n",
    "        error = str(ex)\n",
    "        return error    "
   ]
  },
  {
   "cell_type": "code",
   "execution_count": 23,
   "metadata": {},
   "outputs": [],
   "source": [
    "from azureml.core.environment import Environment\n",
    "from azureml.core.model import InferenceConfig\n",
    "\n",
    "\n",
    "#env = Environment.from_conda_specification(name='puruenv',file_path = 'env.yml')\n",
    "env = Environment.get(workspace=ws, name=\"AzureML-AutoML\")\n",
    "inference_config = InferenceConfig(entry_script='./autoscore.py',\n",
    "                                    environment=env)"
   ]
  },
  {
   "cell_type": "markdown",
   "metadata": {},
   "source": [
    "### Model Deployment "
   ]
  },
  {
   "cell_type": "code",
   "execution_count": 25,
   "metadata": {},
   "outputs": [
    {
     "name": "stdout",
     "output_type": "stream",
     "text": [
      "Tips: You can try get_logs(): https://aka.ms/debugimage#dockerlog or local deployment: https://aka.ms/debugimage#debug-locally to debug if deployment takes longer than 10 minutes.\n",
      "Running\n",
      "2021-12-11 07:06:56+00:00 Creating Container Registry if not exists.\n",
      "2021-12-11 07:06:56+00:00 Registering the environment.\n",
      "2021-12-11 07:06:57+00:00 Use the existing image.\n",
      "2021-12-11 07:06:57+00:00 Generating deployment configuration.\n",
      "2021-12-11 07:06:58+00:00 Submitting deployment to compute.\n",
      "2021-12-11 07:07:07+00:00 Checking the status of deployment bankrupt-model-auto-v1..\n",
      "2021-12-11 07:11:45+00:00 Checking the status of inference endpoint bankrupt-model-auto-v1.\n",
      "Succeeded\n",
      "ACI service creation operation finished, operation \"Succeeded\"\n",
      "Healthy\n"
     ]
    }
   ],
   "source": [
    "from azureml.core.webservice import AciWebservice,Webservice\n",
    "from azureml.core.model import Model\n",
    "\n",
    "deployment_config = AciWebservice.deploy_configuration(cpu_cores = 1, memory_gb = 1,enable_app_insights = True, auth_enabled=True)\n",
    "service = Model.deploy(ws, \"bankrupt-model-auto-v1\", [model], inference_config, deployment_config)\n",
    "service.wait_for_deployment(show_output = True)\n",
    "print(service.state)"
   ]
  },
  {
   "cell_type": "markdown",
   "metadata": {
    "collapsed": true,
    "gather": {
     "logged": 1598432765711
    },
    "jupyter": {
     "outputs_hidden": false,
     "source_hidden": false
    },
    "nteract": {
     "transient": {
      "deleting": false
     }
    }
   },
   "source": [
    "TODO: In the cell below, print the logs of the web service and delete the service"
   ]
  },
  {
   "cell_type": "code",
   "execution_count": 26,
   "metadata": {
    "jupyter": {
     "outputs_hidden": false,
     "source_hidden": false
    },
    "nteract": {
     "transient": {
      "deleting": false
     }
    }
   },
   "outputs": [
    {
     "name": "stdout",
     "output_type": "stream",
     "text": [
      "2021-12-11T07:11:35,032998900+00:00 - iot-server/run \n",
      "2021-12-11T07:11:35,054191200+00:00 - gunicorn/run \n",
      "Dynamic Python package installation is disabled.\n",
      "Starting HTTP server\n",
      "2021-12-11T07:11:35,058882600+00:00 - rsyslog/run \n",
      "2021-12-11T07:11:35,139301900+00:00 - nginx/run \n",
      "rsyslogd: /azureml-envs/azureml_84c85d362f11658b9008714e1aa4657b/lib/libuuid.so.1: no version information available (required by rsyslogd)\n",
      "EdgeHubConnectionString and IOTEDGE_IOTHUBHOSTNAME are not set. Exiting...\n",
      "2021-12-11T07:11:35,587269000+00:00 - iot-server/finish 1 0\n",
      "2021-12-11T07:11:35,589882400+00:00 - Exit code 1 is normal. Not restarting iot-server.\n",
      "Starting gunicorn 20.1.0\n",
      "Listening at: http://127.0.0.1:31311 (71)\n",
      "Using worker: sync\n",
      "worker timeout is set to 300\n",
      "Booting worker with pid: 99\n",
      "SPARK_HOME not set. Skipping PySpark Initialization.\n",
      "Generating new fontManager, this may take some time...\n",
      "Initializing logger\n",
      "2021-12-11 07:11:40,469 | root | INFO | Starting up app insights client\n",
      "logging socket was found. logging is available.\n",
      "logging socket was found. logging is available.\n",
      "2021-12-11 07:11:40,471 | root | INFO | Starting up request id generator\n",
      "2021-12-11 07:11:40,471 | root | INFO | Starting up app insight hooks\n",
      "2021-12-11 07:11:40,471 | root | INFO | Invoking user's init function\n",
      "2021-12-11 07:11:44,183 | root | INFO | Users's init has completed successfully\n",
      "2021-12-11 07:11:44,186 | root | INFO | Skipping middleware: dbg_model_info as it's not enabled.\n",
      "2021-12-11 07:11:44,186 | root | INFO | Skipping middleware: dbg_resource_usage as it's not enabled.\n",
      "2021-12-11 07:11:44,192 | root | INFO | Scoring timeout is found from os.environ: 60000 ms\n",
      "2021-12-11 07:12:21,418 | root | INFO | Swagger file not present\n",
      "2021-12-11 07:12:21,419 | root | INFO | 404\n",
      "127.0.0.1 - - [11/Dec/2021:07:12:21 +0000] \"GET /swagger.json HTTP/1.0\" 404 19 \"-\" \"Go-http-client/1.1\"\n",
      "2021-12-11 07:12:23,016 | root | INFO | Swagger file not present\n",
      "2021-12-11 07:12:23,016 | root | INFO | 404\n",
      "127.0.0.1 - - [11/Dec/2021:07:12:23 +0000] \"GET /swagger.json HTTP/1.0\" 404 19 \"-\" \"Go-http-client/1.1\"\n",
      "\n"
     ]
    }
   ],
   "source": [
    "servicelogs = service.get_logs()\n",
    "print(servicelogs)"
   ]
  },
  {
   "cell_type": "code",
   "execution_count": 27,
   "metadata": {},
   "outputs": [
    {
     "name": "stdout",
     "output_type": "stream",
     "text": [
      "scoring URI: http://6fade21e-5d07-4f72-b41f-67c870cbf0a0.westeurope.azurecontainer.io/score\n",
      "Swagger URI: http://6fade21e-5d07-4f72-b41f-67c870cbf0a0.westeurope.azurecontainer.io/swagger.json\n",
      "Authetication Key: HWzLx8ZbGuVVp7imdob7fJtV0Qs2Ql6g\n"
     ]
    }
   ],
   "source": [
    "print(\"scoring URI: \" + service.scoring_uri)\n",
    "print(\"Swagger URI: \" + service.swagger_uri)\n",
    "print(\"Authetication Key: \" + service.get_keys()[0])"
   ]
  },
  {
   "cell_type": "code",
   "execution_count": 45,
   "metadata": {},
   "outputs": [
    {
     "data": {
      "text/plain": [
       "9"
      ]
     },
     "execution_count": 45,
     "metadata": {},
     "output_type": "execute_result"
    }
   ],
   "source": [
    "3*3"
   ]
  },
  {
   "cell_type": "code",
   "execution_count": 28,
   "metadata": {},
   "outputs": [],
   "source": [
    "x_data, y_data = clean_data(dataset)\n",
    "x_data = x_data.drop(['Payer', 'Bankruptcy month'], axis=1)"
   ]
  },
  {
   "cell_type": "code",
   "execution_count": 29,
   "metadata": {},
   "outputs": [
    {
     "data": {
      "text/html": [
       "<div>\n",
       "<style scoped>\n",
       "    .dataframe tbody tr th:only-of-type {\n",
       "        vertical-align: middle;\n",
       "    }\n",
       "\n",
       "    .dataframe tbody tr th {\n",
       "        vertical-align: top;\n",
       "    }\n",
       "\n",
       "    .dataframe thead th {\n",
       "        text-align: right;\n",
       "    }\n",
       "</style>\n",
       "<table border=\"1\" class=\"dataframe\">\n",
       "  <thead>\n",
       "    <tr style=\"text-align: right;\">\n",
       "      <th></th>\n",
       "      <th># POCs</th>\n",
       "      <th>Rent</th>\n",
       "      <th>Average Receivables</th>\n",
       "      <th>Average Overdue</th>\n",
       "      <th>Payment Term Days</th>\n",
       "      <th>Credit Limit</th>\n",
       "      <th>Std Dev AR</th>\n",
       "      <th>Max Credit Utilization</th>\n",
       "      <th>Avg Credit Utilization</th>\n",
       "      <th>fb_rating</th>\n",
       "      <th>Payment Behavior Status_AVERAGE</th>\n",
       "      <th>Payment Behavior Status_EXCELLENT</th>\n",
       "      <th>Payment Behavior Status_GOOD</th>\n",
       "      <th>Payment Behavior Status_STRUCTURAL OFFENDER</th>\n",
       "    </tr>\n",
       "  </thead>\n",
       "  <tbody>\n",
       "    <tr>\n",
       "      <th>4887</th>\n",
       "      <td>1</td>\n",
       "      <td>0.00</td>\n",
       "      <td>12015.97</td>\n",
       "      <td>20026.62</td>\n",
       "      <td>14</td>\n",
       "      <td>5300.00</td>\n",
       "      <td>0.00</td>\n",
       "      <td>4.53</td>\n",
       "      <td>4.53</td>\n",
       "      <td>0.00</td>\n",
       "      <td>0</td>\n",
       "      <td>1</td>\n",
       "      <td>0</td>\n",
       "      <td>0</td>\n",
       "    </tr>\n",
       "    <tr>\n",
       "      <th>4888</th>\n",
       "      <td>1</td>\n",
       "      <td>0.00</td>\n",
       "      <td>5531.77</td>\n",
       "      <td>1857.29</td>\n",
       "      <td>14</td>\n",
       "      <td>25000.00</td>\n",
       "      <td>0.03</td>\n",
       "      <td>0.19</td>\n",
       "      <td>0.15</td>\n",
       "      <td>0.00</td>\n",
       "      <td>0</td>\n",
       "      <td>0</td>\n",
       "      <td>0</td>\n",
       "      <td>1</td>\n",
       "    </tr>\n",
       "  </tbody>\n",
       "</table>\n",
       "</div>"
      ],
      "text/plain": [
       "      # POCs  Rent  Average Receivables  Average Overdue  Payment Term Days  \\\n",
       "4887       1  0.00             12015.97         20026.62                 14   \n",
       "4888       1  0.00              5531.77          1857.29                 14   \n",
       "\n",
       "      Credit Limit  Std Dev AR  Max Credit Utilization  \\\n",
       "4887       5300.00        0.00                    4.53   \n",
       "4888      25000.00        0.03                    0.19   \n",
       "\n",
       "      Avg Credit Utilization  fb_rating  Payment Behavior Status_AVERAGE  \\\n",
       "4887                    4.53       0.00                                0   \n",
       "4888                    0.15       0.00                                0   \n",
       "\n",
       "      Payment Behavior Status_EXCELLENT  Payment Behavior Status_GOOD  \\\n",
       "4887                                  1                             0   \n",
       "4888                                  0                             0   \n",
       "\n",
       "      Payment Behavior Status_STRUCTURAL OFFENDER  \n",
       "4887                                            0  \n",
       "4888                                            1  "
      ]
     },
     "execution_count": 29,
     "metadata": {},
     "output_type": "execute_result"
    }
   ],
   "source": [
    "x_data[4887:4889]"
   ]
  },
  {
   "cell_type": "code",
   "execution_count": 33,
   "metadata": {},
   "outputs": [
    {
     "data": {
      "text/plain": [
       "Index(['# POCs', 'Rent', 'Average Receivables', 'Average Overdue',\n",
       "       'Payment Term Days', 'Credit Limit', 'Std Dev AR',\n",
       "       'Max Credit Utilization', 'Avg Credit Utilization', 'fb_rating',\n",
       "       'Payment Behavior Status_AVERAGE', 'Payment Behavior Status_EXCELLENT',\n",
       "       'Payment Behavior Status_GOOD',\n",
       "       'Payment Behavior Status_STRUCTURAL OFFENDER'],\n",
       "      dtype='object')"
      ]
     },
     "execution_count": 33,
     "metadata": {},
     "output_type": "execute_result"
    }
   ],
   "source": [
    "x_data.columns"
   ]
  },
  {
   "cell_type": "code",
   "execution_count": 30,
   "metadata": {},
   "outputs": [
    {
     "name": "stdout",
     "output_type": "stream",
     "text": [
      "[1, 0]\n"
     ]
    }
   ],
   "source": [
    "import json\n",
    "\n",
    "input_payload = json.dumps({\n",
    "    'data': x_data[4887:4889].to_dict(orient='records'),\n",
    "    'method': 'predict'  # classification model\n",
    "})\n",
    "\n",
    "output = service.run(input_payload)\n",
    "\n",
    "print(output)"
   ]
  },
  {
   "cell_type": "code",
   "execution_count": 34,
   "metadata": {},
   "outputs": [
    {
     "name": "stdout",
     "output_type": "stream",
     "text": [
      "[1, 0]\n"
     ]
    }
   ],
   "source": [
    "import requests\n",
    "import json\n",
    "scoringuri = service.scoring_uri\n",
    "key = service.get_keys()[0]\n",
    "data= { \"data\":\n",
    "       [\n",
    "           {\n",
    "               '# POCs':2,\n",
    "               'Rent': 0,\n",
    "               'Average Receivables': 10000,\n",
    "               'Average Overdue': 50000,\n",
    "               'Payment Term Days': 14,\n",
    "               'Credit Limit': 0.01,\n",
    "               'Std Dev AR': 0,\n",
    "               'Max Credit Utilization': 24000,\n",
    "               'Avg Credit Utilization':12000 ,\n",
    "               'fb_rating': 0,\n",
    "               'Payment Behavior Status_AVERAGE':0 ,\n",
    "               'Payment Behavior Status_EXCELLENT':0 ,\n",
    "               'Payment Behavior Status_GOOD':0,\n",
    "               'Payment Behavior Status_STRUCTURAL OFFENDER':1\n",
    "               \n",
    "               \n",
    "               \n",
    "               \n",
    "           },\n",
    "           {\n",
    "               '# POCs':1,\n",
    "               'Rent': 0,\n",
    "               'Average Receivables': 10000,\n",
    "               'Average Overdue': 500,\n",
    "               'Payment Term Days': 180,\n",
    "               'Credit Limit': 4000,\n",
    "               'Std Dev AR': 0,\n",
    "               'Max Credit Utilization': 2000,\n",
    "               'Avg Credit Utilization':0 ,\n",
    "               'fb_rating': 4.5,\n",
    "               'Payment Behavior Status_AVERAGE':0 ,\n",
    "               'Payment Behavior Status_EXCELLENT':1 ,\n",
    "               'Payment Behavior Status_GOOD':0,\n",
    "               'Payment Behavior Status_STRUCTURAL OFFENDER':0\n",
    "           }\n",
    "       ]\n",
    "    }\n",
    "input_data = json.dumps(data)\n",
    "\n",
    "headers = {'Content-Type': 'application/json'}\n",
    "headers['Authorization'] = f'Bearer {key}'\n",
    "\n",
    "response = requests.post(scoringuri, input_data, headers = headers)\n",
    "print(response.text)"
   ]
  },
  {
   "cell_type": "code",
   "execution_count": 31,
   "metadata": {},
   "outputs": [
    {
     "name": "stdout",
     "output_type": "stream",
     "text": [
      "AciWebservice(workspace=Workspace.create(name='ops_analytics-workspace', subscription_id='73f88e6b-3a35-4612-b550-555157e7059f', resource_group='ops_analytics-rg-gb-dev'), name=bankrupt-model-auto-v1, image_id=None, compute_type=None, state=ACI, scoring_uri=Healthy, tags=http://6fade21e-5d07-4f72-b41f-67c870cbf0a0.westeurope.azurecontainer.io/score, properties={}, created_by={'azureml.git.branch': 'master', 'mlflow.source.git.branch': 'master', 'azureml.git.commit': 'a3c5b47ae395dd1677bbfc1ce6d42b58ab484eb0', 'mlflow.source.git.commit': 'a3c5b47ae395dd1677bbfc1ce6d42b58ab484eb0', 'azureml.git.dirty': 'True', 'hasInferenceSchema': 'False', 'hasHttps': 'False'})\n"
     ]
    }
   ],
   "source": [
    "print(service)"
   ]
  },
  {
   "cell_type": "markdown",
   "metadata": {},
   "source": [
    "**Submission Checklist**\n",
    "- I have registered the model.\n",
    "- I have deployed the model with the best accuracy as a webservice.\n",
    "- I have tested the webservice by sending a request to the model endpoint.\n",
    "- I have deleted the webservice and shutdown all the computes that I have used.\n",
    "- I have taken a screenshot showing the model endpoint as active.\n",
    "- The project includes a file containing the environment details."
   ]
  },
  {
   "cell_type": "markdown",
   "metadata": {},
   "source": []
  }
 ],
 "metadata": {
  "kernel_info": {
   "name": "python3"
  },
  "kernelspec": {
   "display_name": "Python 3",
   "language": "python",
   "name": "python3"
  },
  "language_info": {
   "codemirror_mode": {
    "name": "ipython",
    "version": 3
   },
   "file_extension": ".py",
   "mimetype": "text/x-python",
   "name": "python",
   "nbconvert_exporter": "python",
   "pygments_lexer": "ipython3",
   "version": "3.6.9"
  },
  "nteract": {
   "version": "nteract-front-end@1.0.0"
  }
 },
 "nbformat": 4,
 "nbformat_minor": 2
}
